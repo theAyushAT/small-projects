{
  "nbformat": 4,
  "nbformat_minor": 0,
  "metadata": {
    "colab": {
      "name": "object_detection_satellite.ipynb",
      "provenance": [],
      "collapsed_sections": [],
      "toc_visible": true,
      "include_colab_link": true
    },
    "kernelspec": {
      "name": "python3",
      "display_name": "Python 3"
    },
    "accelerator": "GPU"
  },
  "cells": [
    {
      "cell_type": "markdown",
      "metadata": {
        "id": "view-in-github",
        "colab_type": "text"
      },
      "source": [
        "<a href=\"https://colab.research.google.com/github/theAyushAT/small-projects/blob/main/Object-detetection-on-aerial-images/object_detection_satellite.ipynb\" target=\"_parent\"><img src=\"https://colab.research.google.com/assets/colab-badge.svg\" alt=\"Open In Colab\"/></a>"
      ]
    },
    {
      "cell_type": "code",
      "metadata": {
        "id": "Wj4Onlwm2KCT",
        "colab": {
          "base_uri": "https://localhost:8080/"
        },
        "outputId": "467db8ab-3651-47dc-f482-75632496928b"
      },
      "source": [
        "#GPU count and name\n",
        "!nvidia-smi -L"
      ],
      "execution_count": null,
      "outputs": [
        {
          "output_type": "stream",
          "text": [
            "GPU 0: Tesla T4 (UUID: GPU-1ba4eb95-86ac-f309-d5cc-5f04a74b83e6)\n"
          ],
          "name": "stdout"
        }
      ]
    },
    {
      "cell_type": "code",
      "metadata": {
        "id": "jF0BU3EN4B56",
        "colab": {
          "base_uri": "https://localhost:8080/"
        },
        "outputId": "ab265a08-a390-49db-dd9e-f67069845645"
      },
      "source": [
        "!pip install Keras==2.3.1"
      ],
      "execution_count": null,
      "outputs": [
        {
          "output_type": "stream",
          "text": [
            "Collecting Keras==2.3.1\n",
            "\u001b[?25l  Downloading https://files.pythonhosted.org/packages/ad/fd/6bfe87920d7f4fd475acd28500a42482b6b84479832bdc0fe9e589a60ceb/Keras-2.3.1-py2.py3-none-any.whl (377kB)\n",
            "\r\u001b[K     |▉                               | 10kB 19.3MB/s eta 0:00:01\r\u001b[K     |█▊                              | 20kB 22.3MB/s eta 0:00:01\r\u001b[K     |██▋                             | 30kB 16.6MB/s eta 0:00:01\r\u001b[K     |███▌                            | 40kB 14.6MB/s eta 0:00:01\r\u001b[K     |████▍                           | 51kB 9.1MB/s eta 0:00:01\r\u001b[K     |█████▏                          | 61kB 8.5MB/s eta 0:00:01\r\u001b[K     |██████                          | 71kB 9.6MB/s eta 0:00:01\r\u001b[K     |███████                         | 81kB 10.5MB/s eta 0:00:01\r\u001b[K     |███████▉                        | 92kB 10.1MB/s eta 0:00:01\r\u001b[K     |████████▊                       | 102kB 8.4MB/s eta 0:00:01\r\u001b[K     |█████████▌                      | 112kB 8.4MB/s eta 0:00:01\r\u001b[K     |██████████▍                     | 122kB 8.4MB/s eta 0:00:01\r\u001b[K     |███████████▎                    | 133kB 8.4MB/s eta 0:00:01\r\u001b[K     |████████████▏                   | 143kB 8.4MB/s eta 0:00:01\r\u001b[K     |█████████████                   | 153kB 8.4MB/s eta 0:00:01\r\u001b[K     |█████████████▉                  | 163kB 8.4MB/s eta 0:00:01\r\u001b[K     |██████████████▊                 | 174kB 8.4MB/s eta 0:00:01\r\u001b[K     |███████████████▋                | 184kB 8.4MB/s eta 0:00:01\r\u001b[K     |████████████████▌               | 194kB 8.4MB/s eta 0:00:01\r\u001b[K     |█████████████████▍              | 204kB 8.4MB/s eta 0:00:01\r\u001b[K     |██████████████████▏             | 215kB 8.4MB/s eta 0:00:01\r\u001b[K     |███████████████████             | 225kB 8.4MB/s eta 0:00:01\r\u001b[K     |████████████████████            | 235kB 8.4MB/s eta 0:00:01\r\u001b[K     |████████████████████▉           | 245kB 8.4MB/s eta 0:00:01\r\u001b[K     |█████████████████████▊          | 256kB 8.4MB/s eta 0:00:01\r\u001b[K     |██████████████████████▌         | 266kB 8.4MB/s eta 0:00:01\r\u001b[K     |███████████████████████▍        | 276kB 8.4MB/s eta 0:00:01\r\u001b[K     |████████████████████████▎       | 286kB 8.4MB/s eta 0:00:01\r\u001b[K     |█████████████████████████▏      | 296kB 8.4MB/s eta 0:00:01\r\u001b[K     |██████████████████████████      | 307kB 8.4MB/s eta 0:00:01\r\u001b[K     |██████████████████████████▉     | 317kB 8.4MB/s eta 0:00:01\r\u001b[K     |███████████████████████████▊    | 327kB 8.4MB/s eta 0:00:01\r\u001b[K     |████████████████████████████▋   | 337kB 8.4MB/s eta 0:00:01\r\u001b[K     |█████████████████████████████▌  | 348kB 8.4MB/s eta 0:00:01\r\u001b[K     |██████████████████████████████▍ | 358kB 8.4MB/s eta 0:00:01\r\u001b[K     |███████████████████████████████▏| 368kB 8.4MB/s eta 0:00:01\r\u001b[K     |████████████████████████████████| 378kB 8.4MB/s \n",
            "\u001b[?25hRequirement already satisfied: six>=1.9.0 in /usr/local/lib/python3.7/dist-packages (from Keras==2.3.1) (1.15.0)\n",
            "Requirement already satisfied: h5py in /usr/local/lib/python3.7/dist-packages (from Keras==2.3.1) (2.10.0)\n",
            "Requirement already satisfied: scipy>=0.14 in /usr/local/lib/python3.7/dist-packages (from Keras==2.3.1) (1.4.1)\n",
            "Requirement already satisfied: keras-preprocessing>=1.0.5 in /usr/local/lib/python3.7/dist-packages (from Keras==2.3.1) (1.1.2)\n",
            "Collecting keras-applications>=1.0.6\n",
            "\u001b[?25l  Downloading https://files.pythonhosted.org/packages/71/e3/19762fdfc62877ae9102edf6342d71b28fbfd9dea3d2f96a882ce099b03f/Keras_Applications-1.0.8-py3-none-any.whl (50kB)\n",
            "\r\u001b[K     |██████▌                         | 10kB 30.8MB/s eta 0:00:01\r\u001b[K     |█████████████                   | 20kB 39.1MB/s eta 0:00:01\r\u001b[K     |███████████████████▍            | 30kB 45.3MB/s eta 0:00:01\r\u001b[K     |█████████████████████████▉      | 40kB 43.6MB/s eta 0:00:01\r\u001b[K     |████████████████████████████████| 51kB 8.4MB/s \n",
            "\u001b[?25hRequirement already satisfied: pyyaml in /usr/local/lib/python3.7/dist-packages (from Keras==2.3.1) (3.13)\n",
            "Requirement already satisfied: numpy>=1.9.1 in /usr/local/lib/python3.7/dist-packages (from Keras==2.3.1) (1.19.5)\n",
            "Installing collected packages: keras-applications, Keras\n",
            "  Found existing installation: Keras 2.4.3\n",
            "    Uninstalling Keras-2.4.3:\n",
            "      Successfully uninstalled Keras-2.4.3\n",
            "Successfully installed Keras-2.3.1 keras-applications-1.0.8\n"
          ],
          "name": "stdout"
        }
      ]
    },
    {
      "cell_type": "code",
      "metadata": {
        "id": "Pd2K4Lp15syo",
        "colab": {
          "base_uri": "https://localhost:8080/"
        },
        "outputId": "7a96ef71-dc2a-4731-bff9-490ca509547e"
      },
      "source": [
        "!python -c 'import keras; print(keras.__version__)'"
      ],
      "execution_count": null,
      "outputs": [
        {
          "output_type": "stream",
          "text": [
            "Using TensorFlow backend.\n",
            "2021-03-27 02:44:22.967511: I tensorflow/stream_executor/platform/default/dso_loader.cc:49] Successfully opened dynamic library libcudart.so.11.0\n",
            "2.3.1\n"
          ],
          "name": "stdout"
        }
      ]
    },
    {
      "cell_type": "markdown",
      "metadata": {
        "id": "52U-HnigUUZH"
      },
      "source": [
        "## Download and extract dataset"
      ]
    },
    {
      "cell_type": "code",
      "metadata": {
        "id": "OwvRGmttkWBL",
        "colab": {
          "base_uri": "https://localhost:8080/"
        },
        "outputId": "bcb0773f-f736-4b4e-d809-b3c7749e2d76"
      },
      "source": [
        "import os\n",
        "\n",
        "# replace with your own Kaggle username and key\n",
        "\n",
        "os.environ['KAGGLE_USERNAME'] = \"theayushtiwari\" \n",
        "os.environ['KAGGLE_KEY'] = \"583a98462d37f5eec9ed8bc96d718c1\" \n",
        "\n",
        "#data link https://www.kaggle.com/kbhartiya83/swimming-pool-and-car-detection\n",
        "!kaggle datasets download kbhartiya83/swimming-pool-and-car-detection -p /content/data --unzip "
      ],
      "execution_count": null,
      "outputs": [
        {
          "output_type": "stream",
          "text": [
            "Downloading swimming-pool-and-car-detection.zip to /content/data\n",
            " 91% 101M/111M [00:01<00:00, 74.1MB/s] \n",
            "100% 111M/111M [00:01<00:00, 72.1MB/s]\n"
          ],
          "name": "stdout"
        }
      ]
    },
    {
      "cell_type": "markdown",
      "metadata": {
        "id": "TzzSeBY7VSGg"
      },
      "source": [
        "## Clone Retinanet Repo"
      ]
    },
    {
      "cell_type": "code",
      "metadata": {
        "id": "nnmTHnOJhbaP",
        "colab": {
          "base_uri": "https://localhost:8080/"
        },
        "outputId": "8d216095-32a3-46f7-8a1c-2edd2174e853"
      },
      "source": [
        "import os\n",
        "\n",
        "repo_url = 'https://github.com/fizyr/keras-retinanet'\n",
        "repo_dir_path = os.path.abspath(os.path.join('.', os.path.basename(repo_url))) \n",
        "\n",
        "!git clone {repo_url} # clone repo"
      ],
      "execution_count": null,
      "outputs": [
        {
          "output_type": "stream",
          "text": [
            "Cloning into 'keras-retinanet'...\n",
            "remote: Enumerating objects: 6205, done.\u001b[K\n",
            "remote: Total 6205 (delta 0), reused 0 (delta 0), pack-reused 6205\u001b[K\n",
            "Receiving objects: 100% (6205/6205), 13.47 MiB | 32.83 MiB/s, done.\n",
            "Resolving deltas: 100% (4201/4201), done.\n"
          ],
          "name": "stdout"
        }
      ]
    },
    {
      "cell_type": "code",
      "metadata": {
        "id": "iuxoUfRAioHG",
        "colab": {
          "base_uri": "https://localhost:8080/"
        },
        "outputId": "3746cb98-3eb6-48fc-f3b5-5f983003738e"
      },
      "source": [
        "# from /content/keras-retinanet\n",
        "%cd {repo_dir_path} \n",
        "!pip install .\n",
        "!python setup.py build_ext --inplace\n",
        "\n",
        "%cd .."
      ],
      "execution_count": null,
      "outputs": [
        {
          "output_type": "stream",
          "text": [
            "/content/keras-retinanet\n",
            "Processing /content/keras-retinanet\n",
            "Collecting keras-resnet==0.2.0\n",
            "  Downloading https://files.pythonhosted.org/packages/76/d4/a35cbd07381139dda4db42c81b88c59254faac026109022727b45b31bcad/keras-resnet-0.2.0.tar.gz\n",
            "Requirement already satisfied: six in /usr/local/lib/python3.7/dist-packages (from keras-retinanet==1.0.0) (1.15.0)\n",
            "Requirement already satisfied: numpy in /usr/local/lib/python3.7/dist-packages (from keras-retinanet==1.0.0) (1.19.5)\n",
            "Requirement already satisfied: cython in /usr/local/lib/python3.7/dist-packages (from keras-retinanet==1.0.0) (0.29.22)\n",
            "Requirement already satisfied: Pillow in /usr/local/lib/python3.7/dist-packages (from keras-retinanet==1.0.0) (7.0.0)\n",
            "Requirement already satisfied: opencv-python in /usr/local/lib/python3.7/dist-packages (from keras-retinanet==1.0.0) (4.1.2.30)\n",
            "Requirement already satisfied: progressbar2 in /usr/local/lib/python3.7/dist-packages (from keras-retinanet==1.0.0) (3.38.0)\n",
            "Requirement already satisfied: keras>=2.2.4 in /usr/local/lib/python3.7/dist-packages (from keras-resnet==0.2.0->keras-retinanet==1.0.0) (2.3.1)\n",
            "Requirement already satisfied: python-utils>=2.3.0 in /usr/local/lib/python3.7/dist-packages (from progressbar2->keras-retinanet==1.0.0) (2.5.6)\n",
            "Requirement already satisfied: h5py in /usr/local/lib/python3.7/dist-packages (from keras>=2.2.4->keras-resnet==0.2.0->keras-retinanet==1.0.0) (2.10.0)\n",
            "Requirement already satisfied: pyyaml in /usr/local/lib/python3.7/dist-packages (from keras>=2.2.4->keras-resnet==0.2.0->keras-retinanet==1.0.0) (3.13)\n",
            "Requirement already satisfied: keras-preprocessing>=1.0.5 in /usr/local/lib/python3.7/dist-packages (from keras>=2.2.4->keras-resnet==0.2.0->keras-retinanet==1.0.0) (1.1.2)\n",
            "Requirement already satisfied: scipy>=0.14 in /usr/local/lib/python3.7/dist-packages (from keras>=2.2.4->keras-resnet==0.2.0->keras-retinanet==1.0.0) (1.4.1)\n",
            "Requirement already satisfied: keras-applications>=1.0.6 in /usr/local/lib/python3.7/dist-packages (from keras>=2.2.4->keras-resnet==0.2.0->keras-retinanet==1.0.0) (1.0.8)\n",
            "Building wheels for collected packages: keras-retinanet, keras-resnet\n",
            "  Building wheel for keras-retinanet (setup.py) ... \u001b[?25l\u001b[?25hdone\n",
            "  Created wheel for keras-retinanet: filename=keras_retinanet-1.0.0-cp37-cp37m-linux_x86_64.whl size=168007 sha256=42ff0d740bc790d2f96e6f94af1055e7fcfe3c621c4d27947792f11873bcfcd2\n",
            "  Stored in directory: /root/.cache/pip/wheels/b2/9f/57/cb0305f6f5a41fc3c11ad67b8cedfbe9127775b563337827ba\n",
            "  Building wheel for keras-resnet (setup.py) ... \u001b[?25l\u001b[?25hdone\n",
            "  Created wheel for keras-resnet: filename=keras_resnet-0.2.0-py2.py3-none-any.whl size=20486 sha256=a115fa19bf6e8d5271bd2156e55e4dd72ff6917cac6649b519c4fab091e28de9\n",
            "  Stored in directory: /root/.cache/pip/wheels/5f/09/a5/497a30fd9ad9964e98a1254d1e164bcd1b8a5eda36197ecb3c\n",
            "Successfully built keras-retinanet keras-resnet\n",
            "Installing collected packages: keras-resnet, keras-retinanet\n",
            "Successfully installed keras-resnet-0.2.0 keras-retinanet-1.0.0\n",
            "running build_ext\n",
            "cythoning keras_retinanet/utils/compute_overlap.pyx to keras_retinanet/utils/compute_overlap.c\n",
            "/usr/local/lib/python3.7/dist-packages/Cython/Compiler/Main.py:369: FutureWarning: Cython directive 'language_level' not set, using 2 for now (Py2). This will change in a later release! File: /content/keras-retinanet/keras_retinanet/utils/compute_overlap.pyx\n",
            "  tree = Parsing.p_module(s, pxd, full_module_name)\n",
            "building 'keras_retinanet.utils.compute_overlap' extension\n",
            "creating build\n",
            "creating build/temp.linux-x86_64-3.7\n",
            "creating build/temp.linux-x86_64-3.7/keras_retinanet\n",
            "creating build/temp.linux-x86_64-3.7/keras_retinanet/utils\n",
            "x86_64-linux-gnu-gcc -pthread -Wno-unused-result -Wsign-compare -DNDEBUG -g -fwrapv -O2 -Wall -g -fdebug-prefix-map=/build/python3.7-a56wZI/python3.7-3.7.10=. -fstack-protector-strong -Wformat -Werror=format-security -g -fdebug-prefix-map=/build/python3.7-a56wZI/python3.7-3.7.10=. -fstack-protector-strong -Wformat -Werror=format-security -Wdate-time -D_FORTIFY_SOURCE=2 -fPIC -I/usr/include/python3.7m -I/usr/local/lib/python3.7/dist-packages/numpy/core/include -c keras_retinanet/utils/compute_overlap.c -o build/temp.linux-x86_64-3.7/keras_retinanet/utils/compute_overlap.o\n",
            "In file included from \u001b[01m\u001b[K/usr/local/lib/python3.7/dist-packages/numpy/core/include/numpy/ndarraytypes.h:1822:0\u001b[m\u001b[K,\n",
            "                 from \u001b[01m\u001b[K/usr/local/lib/python3.7/dist-packages/numpy/core/include/numpy/ndarrayobject.h:12\u001b[m\u001b[K,\n",
            "                 from \u001b[01m\u001b[K/usr/local/lib/python3.7/dist-packages/numpy/core/include/numpy/arrayobject.h:4\u001b[m\u001b[K,\n",
            "                 from \u001b[01m\u001b[Kkeras_retinanet/utils/compute_overlap.c:610\u001b[m\u001b[K:\n",
            "\u001b[01m\u001b[K/usr/local/lib/python3.7/dist-packages/numpy/core/include/numpy/npy_1_7_deprecated_api.h:17:2:\u001b[m\u001b[K \u001b[01;35m\u001b[Kwarning: \u001b[m\u001b[K#warning \"Using deprecated NumPy API, disable it with \" \"#define NPY_NO_DEPRECATED_API NPY_1_7_API_VERSION\" [\u001b[01;35m\u001b[K-Wcpp\u001b[m\u001b[K]\n",
            " #\u001b[01;35m\u001b[Kwarning\u001b[m\u001b[K \"Using deprecated NumPy API, disable it with \" \\\n",
            "  \u001b[01;35m\u001b[K^~~~~~~\u001b[m\u001b[K\n",
            "creating build/lib.linux-x86_64-3.7\n",
            "creating build/lib.linux-x86_64-3.7/keras_retinanet\n",
            "creating build/lib.linux-x86_64-3.7/keras_retinanet/utils\n",
            "x86_64-linux-gnu-gcc -pthread -shared -Wl,-O1 -Wl,-Bsymbolic-functions -Wl,-Bsymbolic-functions -Wl,-z,relro -Wl,-Bsymbolic-functions -Wl,-z,relro -g -fdebug-prefix-map=/build/python3.7-a56wZI/python3.7-3.7.10=. -fstack-protector-strong -Wformat -Werror=format-security -Wdate-time -D_FORTIFY_SOURCE=2 build/temp.linux-x86_64-3.7/keras_retinanet/utils/compute_overlap.o -o build/lib.linux-x86_64-3.7/keras_retinanet/utils/compute_overlap.cpython-37m-x86_64-linux-gnu.so\n",
            "copying build/lib.linux-x86_64-3.7/keras_retinanet/utils/compute_overlap.cpython-37m-x86_64-linux-gnu.so -> keras_retinanet/utils\n",
            "/content\n"
          ],
          "name": "stdout"
        }
      ]
    },
    {
      "cell_type": "markdown",
      "metadata": {
        "id": "ULtUGb0TUXjW"
      },
      "source": [
        "## Clone ije_retinanet Repo"
      ]
    },
    {
      "cell_type": "code",
      "metadata": {
        "id": "4zf61BdHBIQh",
        "colab": {
          "base_uri": "https://localhost:8080/"
        },
        "outputId": "35e1c893-e03a-4b54-98c8-5dcfc65e47f4"
      },
      "source": [
        "ije_repo_url = 'https://github.com/ijeism/ije_retinanet'\n",
        "ije_repo_dir_path = os.path.abspath(os.path.join('.', os.path.basename(ije_repo_url))) \n",
        "\n",
        "!git clone {ije_repo_url} # clone repo\n",
        "# %cd {ije_repo_dir_path} \n",
        "# !git pull # pull repo"
      ],
      "execution_count": null,
      "outputs": [
        {
          "output_type": "stream",
          "text": [
            "Cloning into 'ije_retinanet'...\n",
            "remote: Enumerating objects: 78, done.\u001b[K\n",
            "remote: Counting objects: 100% (78/78), done.\u001b[K\n",
            "remote: Compressing objects: 100% (59/59), done.\u001b[K\n",
            "remote: Total 78 (delta 39), reused 41 (delta 15), pack-reused 0\u001b[K\n",
            "Unpacking objects: 100% (78/78), done.\n"
          ],
          "name": "stdout"
        }
      ]
    },
    {
      "cell_type": "markdown",
      "metadata": {
        "id": "C52QhHxVUlOV"
      },
      "source": [
        "## Prepare dataset for training"
      ]
    },
    {
      "cell_type": "code",
      "metadata": {
        "id": "ezkMweLtY89N",
        "colab": {
          "base_uri": "https://localhost:8080/",
          "height": 36
        },
        "outputId": "96736f90-d272-40b0-e8bf-491fc32f802f"
      },
      "source": [
        "import os\n",
        "base_dir = os.getcwd()\n",
        "base_dir"
      ],
      "execution_count": null,
      "outputs": [
        {
          "output_type": "execute_result",
          "data": {
            "application/vnd.google.colaboratory.intrinsic+json": {
              "type": "string"
            },
            "text/plain": [
              "'/content'"
            ]
          },
          "metadata": {
            "tags": []
          },
          "execution_count": 10
        }
      ]
    },
    {
      "cell_type": "code",
      "metadata": {
        "id": "_RPHInyjY5Mv"
      },
      "source": [
        "# select subsample of N for initial training\n",
        "\n",
        "from shutil import copyfile\n",
        "import random\n",
        "\n",
        "# determine number for subsample\n",
        "NUM = 800\n",
        "\n",
        "# create dir for subsample\n",
        "sub_dir = base_dir + '/images_subset/'\n",
        "!mkdir {sub_dir}\n",
        "\n",
        "image_dir = base_dir + '/data/training_data/training_data/images/'\n",
        "image_paths = os.listdir(image_dir)\n",
        "random_NUM = random.sample(image_paths, NUM) # randomly select subsample \n",
        "\n",
        "# copy subsample into subsample dir\n",
        "for i in random_NUM:\n",
        "    copyfile(image_dir + i, sub_dir + i )"
      ],
      "execution_count": null,
      "outputs": []
    },
    {
      "cell_type": "markdown",
      "metadata": {
        "id": "YEnCmFB4pxnb"
      },
      "source": [
        ""
      ]
    },
    {
      "cell_type": "code",
      "metadata": {
        "id": "6qAIqJ-aeSYS",
        "colab": {
          "base_uri": "https://localhost:8080/"
        },
        "outputId": "d980e5f7-00cd-4f1d-9dff-9171d05c9d1c"
      },
      "source": [
        "%cd /content/images_subset/\n",
        "!ls -F |grep -v / | wc -l"
      ],
      "execution_count": null,
      "outputs": [
        {
          "output_type": "stream",
          "text": [
            "/content/images_subset\n",
            "800\n"
          ],
          "name": "stdout"
        }
      ]
    },
    {
      "cell_type": "code",
      "metadata": {
        "id": "quXdcbNfUkPz",
        "colab": {
          "base_uri": "https://localhost:8080/"
        },
        "outputId": "ee4094cb-8b96-49f1-97e9-368be2ca09e8"
      },
      "source": [
        "!python /content/ije_retinanet/build_dataset.py \\\n",
        "-l /content/data/training_data/training_data/labels/ \\\n",
        "-i /content/images_subset/ \\\n",
        "-r /content/images_subset/train.csv \\\n",
        "-e /content/images_subset/test.csv \\\n",
        "-c /content/images_subset/classes.csv "
      ],
      "execution_count": null,
      "outputs": [
        {
          "output_type": "stream",
          "text": [
            "[INFO] creating 'train' set ...\n",
            "[INFO] 640 total images in 'train'\n",
            "[INFO] writing train annotations ...\n",
            "[INFO] total 2468 annotations\n",
            "[INFO] train.csv completed\n",
            "[INFO] creating 'test' set ...\n",
            "[INFO] 160 total images in 'test'\n",
            "[INFO] writing test annotations ...\n",
            "[INFO] total 923 annotations\n",
            "[INFO] test.csv completed\n",
            "[INFO] writing classes ...\n",
            "[INFO] classes.csv completed\n",
            "[FINAL] Task completed!\n"
          ],
          "name": "stdout"
        }
      ]
    },
    {
      "cell_type": "markdown",
      "metadata": {
        "id": "x4O6tTjYOl5m"
      },
      "source": [
        "## Download Pretrained Model"
      ]
    },
    {
      "cell_type": "code",
      "metadata": {
        "id": "QRb9BVQ9TsE7",
        "colab": {
          "base_uri": "https://localhost:8080/"
        },
        "outputId": "c5f882c5-8756-4615-f664-cbb3cd7486b8"
      },
      "source": [
        "import urllib.request\n",
        "\n",
        "PRETRAINED_MODEL = '/content/keras-retinanet/snapshots/resnet50_coco_best_v2.1.0.h5'\n",
        "\n",
        "URL_MODEL = 'https://github.com/fizyr/keras-retinanet/releases/download/0.5.1/resnet50_coco_best_v2.1.0.h5'\n",
        "\n",
        "urllib.request.urlretrieve(URL_MODEL, PRETRAINED_MODEL)"
      ],
      "execution_count": null,
      "outputs": [
        {
          "output_type": "execute_result",
          "data": {
            "text/plain": [
              "('/content/keras-retinanet/snapshots/resnet50_coco_best_v2.1.0.h5',\n",
              " <http.client.HTTPMessage at 0x7f91ea5a1650>)"
            ]
          },
          "metadata": {
            "tags": []
          },
          "execution_count": 14
        }
      ]
    },
    {
      "cell_type": "markdown",
      "metadata": {
        "id": "KPKDUivQOxgD"
      },
      "source": [
        "## Train CNN"
      ]
    },
    {
      "cell_type": "code",
      "metadata": {
        "id": "5gz4nEnMd3vr",
        "colab": {
          "base_uri": "https://localhost:8080/"
        },
        "outputId": "b850a2de-0d7f-49ed-b054-071fddc3d33d"
      },
      "source": [
        "!wc -l /content/images_subset/train.csv"
      ],
      "execution_count": null,
      "outputs": [
        {
          "output_type": "stream",
          "text": [
            "2468 /content/images_subset/train.csv\n"
          ],
          "name": "stdout"
        }
      ]
    },
    {
      "cell_type": "code",
      "metadata": {
        "id": "8iPw9c7D08un",
        "colab": {
          "base_uri": "https://localhost:8080/"
        },
        "outputId": "39e5cdfc-bf33-4dba-fd42-27fc16a69421"
      },
      "source": [
        "# compute number of annotations to compute number of steps per epoch\n",
        "\n",
        "import pandas as pd\n",
        "import math\n",
        "\n",
        "df = pd.read_csv('/content/images_subset/train.csv', header=None)\n",
        "count = len(df)\n",
        "no_steps = math.ceil(count/32)\n",
        "\n",
        "print(\"Count of annotations: {}\".format(count))\n",
        "print(\"Number of steps per epoch: {}\".format(no_steps))"
      ],
      "execution_count": null,
      "outputs": [
        {
          "output_type": "stream",
          "text": [
            "Count of annotations: 2468\n",
            "Number of steps per epoch: 78\n"
          ],
          "name": "stdout"
        }
      ]
    },
    {
      "cell_type": "code",
      "metadata": {
        "id": "_AAcYhuHnJ1F"
      },
      "source": [
        "!pip install tensorflow --upgrade"
      ],
      "execution_count": null,
      "outputs": []
    },
    {
      "cell_type": "code",
      "metadata": {
        "id": "BMPr8a080imB",
        "colab": {
          "base_uri": "https://localhost:8080/"
        },
        "outputId": "233f6c09-fead-40a2-cf59-9f0f5a0dc77a"
      },
      "source": [
        "!mkdir /content/run_1/\n",
        "%cd /content/run_1/\n",
        "\n",
        "!python /content/keras-retinanet/keras_retinanet/bin/train.py \\\n",
        "--freeze-backbone \\\n",
        "--random-transform \\\n",
        "--weights {PRETRAINED_MODEL} \\\n",
        "--weighted-average \\\n",
        "--batch-size 8 \\\n",
        "--steps {no_steps} \\\n",
        "--epochs 100 \\\n",
        "csv '/content/images_subset/train.csv' '/content/images_subset/classes.csv'"
      ],
      "execution_count": null,
      "outputs": [
        {
          "output_type": "stream",
          "text": [
            "mkdir: cannot create directory ‘/content/run_1/’: File exists\n",
            "/content/run_1\n",
            "2021-03-27 03:01:39.959644: I tensorflow/stream_executor/platform/default/dso_loader.cc:49] Successfully opened dynamic library libcudart.so.11.0\n",
            "Creating model, this may take a second...\n",
            "2021-03-27 03:01:41.613733: I tensorflow/compiler/jit/xla_cpu_device.cc:41] Not creating XLA devices, tf_xla_enable_xla_devices not set\n",
            "2021-03-27 03:01:41.614530: I tensorflow/stream_executor/platform/default/dso_loader.cc:49] Successfully opened dynamic library libcuda.so.1\n",
            "2021-03-27 03:01:41.650920: I tensorflow/stream_executor/cuda/cuda_gpu_executor.cc:941] successful NUMA node read from SysFS had negative value (-1), but there must be at least one NUMA node, so returning NUMA node zero\n",
            "2021-03-27 03:01:41.651484: I tensorflow/core/common_runtime/gpu/gpu_device.cc:1720] Found device 0 with properties: \n",
            "pciBusID: 0000:00:04.0 name: Tesla T4 computeCapability: 7.5\n",
            "coreClock: 1.59GHz coreCount: 40 deviceMemorySize: 14.75GiB deviceMemoryBandwidth: 298.08GiB/s\n",
            "2021-03-27 03:01:41.651517: I tensorflow/stream_executor/platform/default/dso_loader.cc:49] Successfully opened dynamic library libcudart.so.11.0\n",
            "2021-03-27 03:01:41.653855: I tensorflow/stream_executor/platform/default/dso_loader.cc:49] Successfully opened dynamic library libcublas.so.11\n",
            "2021-03-27 03:01:41.653925: I tensorflow/stream_executor/platform/default/dso_loader.cc:49] Successfully opened dynamic library libcublasLt.so.11\n",
            "2021-03-27 03:01:41.655625: I tensorflow/stream_executor/platform/default/dso_loader.cc:49] Successfully opened dynamic library libcufft.so.10\n",
            "2021-03-27 03:01:41.655931: I tensorflow/stream_executor/platform/default/dso_loader.cc:49] Successfully opened dynamic library libcurand.so.10\n",
            "2021-03-27 03:01:41.657702: I tensorflow/stream_executor/platform/default/dso_loader.cc:49] Successfully opened dynamic library libcusolver.so.10\n",
            "2021-03-27 03:01:41.658314: I tensorflow/stream_executor/platform/default/dso_loader.cc:49] Successfully opened dynamic library libcusparse.so.11\n",
            "2021-03-27 03:01:41.658484: I tensorflow/stream_executor/platform/default/dso_loader.cc:49] Successfully opened dynamic library libcudnn.so.8\n",
            "2021-03-27 03:01:41.658596: I tensorflow/stream_executor/cuda/cuda_gpu_executor.cc:941] successful NUMA node read from SysFS had negative value (-1), but there must be at least one NUMA node, so returning NUMA node zero\n",
            "2021-03-27 03:01:41.659186: I tensorflow/stream_executor/cuda/cuda_gpu_executor.cc:941] successful NUMA node read from SysFS had negative value (-1), but there must be at least one NUMA node, so returning NUMA node zero\n",
            "2021-03-27 03:01:41.659723: I tensorflow/core/common_runtime/gpu/gpu_device.cc:1862] Adding visible gpu devices: 0\n",
            "2021-03-27 03:01:41.660153: I tensorflow/compiler/jit/xla_gpu_device.cc:99] Not creating XLA devices, tf_xla_enable_xla_devices not set\n",
            "2021-03-27 03:01:41.660272: I tensorflow/stream_executor/cuda/cuda_gpu_executor.cc:941] successful NUMA node read from SysFS had negative value (-1), but there must be at least one NUMA node, so returning NUMA node zero\n",
            "2021-03-27 03:01:41.660807: I tensorflow/core/common_runtime/gpu/gpu_device.cc:1720] Found device 0 with properties: \n",
            "pciBusID: 0000:00:04.0 name: Tesla T4 computeCapability: 7.5\n",
            "coreClock: 1.59GHz coreCount: 40 deviceMemorySize: 14.75GiB deviceMemoryBandwidth: 298.08GiB/s\n",
            "2021-03-27 03:01:41.660835: I tensorflow/stream_executor/platform/default/dso_loader.cc:49] Successfully opened dynamic library libcudart.so.11.0\n",
            "2021-03-27 03:01:41.660870: I tensorflow/stream_executor/platform/default/dso_loader.cc:49] Successfully opened dynamic library libcublas.so.11\n",
            "2021-03-27 03:01:41.660892: I tensorflow/stream_executor/platform/default/dso_loader.cc:49] Successfully opened dynamic library libcublasLt.so.11\n",
            "2021-03-27 03:01:41.660913: I tensorflow/stream_executor/platform/default/dso_loader.cc:49] Successfully opened dynamic library libcufft.so.10\n",
            "2021-03-27 03:01:41.660932: I tensorflow/stream_executor/platform/default/dso_loader.cc:49] Successfully opened dynamic library libcurand.so.10\n",
            "2021-03-27 03:01:41.660951: I tensorflow/stream_executor/platform/default/dso_loader.cc:49] Successfully opened dynamic library libcusolver.so.10\n",
            "2021-03-27 03:01:41.660969: I tensorflow/stream_executor/platform/default/dso_loader.cc:49] Successfully opened dynamic library libcusparse.so.11\n",
            "2021-03-27 03:01:41.660988: I tensorflow/stream_executor/platform/default/dso_loader.cc:49] Successfully opened dynamic library libcudnn.so.8\n",
            "2021-03-27 03:01:41.661048: I tensorflow/stream_executor/cuda/cuda_gpu_executor.cc:941] successful NUMA node read from SysFS had negative value (-1), but there must be at least one NUMA node, so returning NUMA node zero\n",
            "2021-03-27 03:01:41.661646: I tensorflow/stream_executor/cuda/cuda_gpu_executor.cc:941] successful NUMA node read from SysFS had negative value (-1), but there must be at least one NUMA node, so returning NUMA node zero\n",
            "2021-03-27 03:01:41.662148: I tensorflow/core/common_runtime/gpu/gpu_device.cc:1862] Adding visible gpu devices: 0\n",
            "2021-03-27 03:01:41.662190: I tensorflow/stream_executor/platform/default/dso_loader.cc:49] Successfully opened dynamic library libcudart.so.11.0\n",
            "2021-03-27 03:01:42.165707: I tensorflow/core/common_runtime/gpu/gpu_device.cc:1261] Device interconnect StreamExecutor with strength 1 edge matrix:\n",
            "2021-03-27 03:01:42.165769: I tensorflow/core/common_runtime/gpu/gpu_device.cc:1267]      0 \n",
            "2021-03-27 03:01:42.165787: I tensorflow/core/common_runtime/gpu/gpu_device.cc:1280] 0:   N \n",
            "2021-03-27 03:01:42.165989: I tensorflow/stream_executor/cuda/cuda_gpu_executor.cc:941] successful NUMA node read from SysFS had negative value (-1), but there must be at least one NUMA node, so returning NUMA node zero\n",
            "2021-03-27 03:01:42.166629: I tensorflow/stream_executor/cuda/cuda_gpu_executor.cc:941] successful NUMA node read from SysFS had negative value (-1), but there must be at least one NUMA node, so returning NUMA node zero\n",
            "2021-03-27 03:01:42.167214: I tensorflow/stream_executor/cuda/cuda_gpu_executor.cc:941] successful NUMA node read from SysFS had negative value (-1), but there must be at least one NUMA node, so returning NUMA node zero\n",
            "2021-03-27 03:01:42.167746: W tensorflow/core/common_runtime/gpu/gpu_bfc_allocator.cc:39] Overriding allow_growth setting because the TF_FORCE_GPU_ALLOW_GROWTH environment variable is set. Original config value was 0.\n",
            "2021-03-27 03:01:42.167800: I tensorflow/core/common_runtime/gpu/gpu_device.cc:1406] Created TensorFlow device (/job:localhost/replica:0/task:0/device:GPU:0 with 13994 MB memory) -> physical GPU (device: 0, name: Tesla T4, pci bus id: 0000:00:04.0, compute capability: 7.5)\n",
            "WARNING:tensorflow:Skipping loading of weights for layer classification_submodel due to mismatch in shape ((3, 3, 256, 18) vs (3, 3, 256, 720)).\n",
            "WARNING:tensorflow:Skipping loading of weights for layer classification_submodel due to mismatch in shape ((18,) vs (720,)).\n",
            "Model: \"retinanet\"\n",
            "__________________________________________________________________________________________________\n",
            "Layer (type)                    Output Shape         Param #     Connected to                     \n",
            "==================================================================================================\n",
            "input_1 (InputLayer)            [(None, None, None,  0                                            \n",
            "__________________________________________________________________________________________________\n",
            "conv1 (Conv2D)                  (None, None, None, 6 9408        input_1[0][0]                    \n",
            "__________________________________________________________________________________________________\n",
            "bn_conv1 (BatchNormalization)   (None, None, None, 6 256         conv1[0][0]                      \n",
            "__________________________________________________________________________________________________\n",
            "conv1_relu (Activation)         (None, None, None, 6 0           bn_conv1[0][0]                   \n",
            "__________________________________________________________________________________________________\n",
            "pool1 (MaxPooling2D)            (None, None, None, 6 0           conv1_relu[0][0]                 \n",
            "__________________________________________________________________________________________________\n",
            "res2a_branch2a (Conv2D)         (None, None, None, 6 4096        pool1[0][0]                      \n",
            "__________________________________________________________________________________________________\n",
            "bn2a_branch2a (BatchNormalizati (None, None, None, 6 256         res2a_branch2a[0][0]             \n",
            "__________________________________________________________________________________________________\n",
            "res2a_branch2a_relu (Activation (None, None, None, 6 0           bn2a_branch2a[0][0]              \n",
            "__________________________________________________________________________________________________\n",
            "padding2a_branch2b (ZeroPadding (None, None, None, 6 0           res2a_branch2a_relu[0][0]        \n",
            "__________________________________________________________________________________________________\n",
            "res2a_branch2b (Conv2D)         (None, None, None, 6 36864       padding2a_branch2b[0][0]         \n",
            "__________________________________________________________________________________________________\n",
            "bn2a_branch2b (BatchNormalizati (None, None, None, 6 256         res2a_branch2b[0][0]             \n",
            "__________________________________________________________________________________________________\n",
            "res2a_branch2b_relu (Activation (None, None, None, 6 0           bn2a_branch2b[0][0]              \n",
            "__________________________________________________________________________________________________\n",
            "res2a_branch2c (Conv2D)         (None, None, None, 2 16384       res2a_branch2b_relu[0][0]        \n",
            "__________________________________________________________________________________________________\n",
            "res2a_branch1 (Conv2D)          (None, None, None, 2 16384       pool1[0][0]                      \n",
            "__________________________________________________________________________________________________\n",
            "bn2a_branch2c (BatchNormalizati (None, None, None, 2 1024        res2a_branch2c[0][0]             \n",
            "__________________________________________________________________________________________________\n",
            "bn2a_branch1 (BatchNormalizatio (None, None, None, 2 1024        res2a_branch1[0][0]              \n",
            "__________________________________________________________________________________________________\n",
            "res2a (Add)                     (None, None, None, 2 0           bn2a_branch2c[0][0]              \n",
            "                                                                 bn2a_branch1[0][0]               \n",
            "__________________________________________________________________________________________________\n",
            "res2a_relu (Activation)         (None, None, None, 2 0           res2a[0][0]                      \n",
            "__________________________________________________________________________________________________\n",
            "res2b_branch2a (Conv2D)         (None, None, None, 6 16384       res2a_relu[0][0]                 \n",
            "__________________________________________________________________________________________________\n",
            "bn2b_branch2a (BatchNormalizati (None, None, None, 6 256         res2b_branch2a[0][0]             \n",
            "__________________________________________________________________________________________________\n",
            "res2b_branch2a_relu (Activation (None, None, None, 6 0           bn2b_branch2a[0][0]              \n",
            "__________________________________________________________________________________________________\n",
            "padding2b_branch2b (ZeroPadding (None, None, None, 6 0           res2b_branch2a_relu[0][0]        \n",
            "__________________________________________________________________________________________________\n",
            "res2b_branch2b (Conv2D)         (None, None, None, 6 36864       padding2b_branch2b[0][0]         \n",
            "__________________________________________________________________________________________________\n",
            "bn2b_branch2b (BatchNormalizati (None, None, None, 6 256         res2b_branch2b[0][0]             \n",
            "__________________________________________________________________________________________________\n",
            "res2b_branch2b_relu (Activation (None, None, None, 6 0           bn2b_branch2b[0][0]              \n",
            "__________________________________________________________________________________________________\n",
            "res2b_branch2c (Conv2D)         (None, None, None, 2 16384       res2b_branch2b_relu[0][0]        \n",
            "__________________________________________________________________________________________________\n",
            "bn2b_branch2c (BatchNormalizati (None, None, None, 2 1024        res2b_branch2c[0][0]             \n",
            "__________________________________________________________________________________________________\n",
            "res2b (Add)                     (None, None, None, 2 0           bn2b_branch2c[0][0]              \n",
            "                                                                 res2a_relu[0][0]                 \n",
            "__________________________________________________________________________________________________\n",
            "res2b_relu (Activation)         (None, None, None, 2 0           res2b[0][0]                      \n",
            "__________________________________________________________________________________________________\n",
            "res2c_branch2a (Conv2D)         (None, None, None, 6 16384       res2b_relu[0][0]                 \n",
            "__________________________________________________________________________________________________\n",
            "bn2c_branch2a (BatchNormalizati (None, None, None, 6 256         res2c_branch2a[0][0]             \n",
            "__________________________________________________________________________________________________\n",
            "res2c_branch2a_relu (Activation (None, None, None, 6 0           bn2c_branch2a[0][0]              \n",
            "__________________________________________________________________________________________________\n",
            "padding2c_branch2b (ZeroPadding (None, None, None, 6 0           res2c_branch2a_relu[0][0]        \n",
            "__________________________________________________________________________________________________\n",
            "res2c_branch2b (Conv2D)         (None, None, None, 6 36864       padding2c_branch2b[0][0]         \n",
            "__________________________________________________________________________________________________\n",
            "bn2c_branch2b (BatchNormalizati (None, None, None, 6 256         res2c_branch2b[0][0]             \n",
            "__________________________________________________________________________________________________\n",
            "res2c_branch2b_relu (Activation (None, None, None, 6 0           bn2c_branch2b[0][0]              \n",
            "__________________________________________________________________________________________________\n",
            "res2c_branch2c (Conv2D)         (None, None, None, 2 16384       res2c_branch2b_relu[0][0]        \n",
            "__________________________________________________________________________________________________\n",
            "bn2c_branch2c (BatchNormalizati (None, None, None, 2 1024        res2c_branch2c[0][0]             \n",
            "__________________________________________________________________________________________________\n",
            "res2c (Add)                     (None, None, None, 2 0           bn2c_branch2c[0][0]              \n",
            "                                                                 res2b_relu[0][0]                 \n",
            "__________________________________________________________________________________________________\n",
            "res2c_relu (Activation)         (None, None, None, 2 0           res2c[0][0]                      \n",
            "__________________________________________________________________________________________________\n",
            "res3a_branch2a (Conv2D)         (None, None, None, 1 32768       res2c_relu[0][0]                 \n",
            "__________________________________________________________________________________________________\n",
            "bn3a_branch2a (BatchNormalizati (None, None, None, 1 512         res3a_branch2a[0][0]             \n",
            "__________________________________________________________________________________________________\n",
            "res3a_branch2a_relu (Activation (None, None, None, 1 0           bn3a_branch2a[0][0]              \n",
            "__________________________________________________________________________________________________\n",
            "padding3a_branch2b (ZeroPadding (None, None, None, 1 0           res3a_branch2a_relu[0][0]        \n",
            "__________________________________________________________________________________________________\n",
            "res3a_branch2b (Conv2D)         (None, None, None, 1 147456      padding3a_branch2b[0][0]         \n",
            "__________________________________________________________________________________________________\n",
            "bn3a_branch2b (BatchNormalizati (None, None, None, 1 512         res3a_branch2b[0][0]             \n",
            "__________________________________________________________________________________________________\n",
            "res3a_branch2b_relu (Activation (None, None, None, 1 0           bn3a_branch2b[0][0]              \n",
            "__________________________________________________________________________________________________\n",
            "res3a_branch2c (Conv2D)         (None, None, None, 5 65536       res3a_branch2b_relu[0][0]        \n",
            "__________________________________________________________________________________________________\n",
            "res3a_branch1 (Conv2D)          (None, None, None, 5 131072      res2c_relu[0][0]                 \n",
            "__________________________________________________________________________________________________\n",
            "bn3a_branch2c (BatchNormalizati (None, None, None, 5 2048        res3a_branch2c[0][0]             \n",
            "__________________________________________________________________________________________________\n",
            "bn3a_branch1 (BatchNormalizatio (None, None, None, 5 2048        res3a_branch1[0][0]              \n",
            "__________________________________________________________________________________________________\n",
            "res3a (Add)                     (None, None, None, 5 0           bn3a_branch2c[0][0]              \n",
            "                                                                 bn3a_branch1[0][0]               \n",
            "__________________________________________________________________________________________________\n",
            "res3a_relu (Activation)         (None, None, None, 5 0           res3a[0][0]                      \n",
            "__________________________________________________________________________________________________\n",
            "res3b_branch2a (Conv2D)         (None, None, None, 1 65536       res3a_relu[0][0]                 \n",
            "__________________________________________________________________________________________________\n",
            "bn3b_branch2a (BatchNormalizati (None, None, None, 1 512         res3b_branch2a[0][0]             \n",
            "__________________________________________________________________________________________________\n",
            "res3b_branch2a_relu (Activation (None, None, None, 1 0           bn3b_branch2a[0][0]              \n",
            "__________________________________________________________________________________________________\n",
            "padding3b_branch2b (ZeroPadding (None, None, None, 1 0           res3b_branch2a_relu[0][0]        \n",
            "__________________________________________________________________________________________________\n",
            "res3b_branch2b (Conv2D)         (None, None, None, 1 147456      padding3b_branch2b[0][0]         \n",
            "__________________________________________________________________________________________________\n",
            "bn3b_branch2b (BatchNormalizati (None, None, None, 1 512         res3b_branch2b[0][0]             \n",
            "__________________________________________________________________________________________________\n",
            "res3b_branch2b_relu (Activation (None, None, None, 1 0           bn3b_branch2b[0][0]              \n",
            "__________________________________________________________________________________________________\n",
            "res3b_branch2c (Conv2D)         (None, None, None, 5 65536       res3b_branch2b_relu[0][0]        \n",
            "__________________________________________________________________________________________________\n",
            "bn3b_branch2c (BatchNormalizati (None, None, None, 5 2048        res3b_branch2c[0][0]             \n",
            "__________________________________________________________________________________________________\n",
            "res3b (Add)                     (None, None, None, 5 0           bn3b_branch2c[0][0]              \n",
            "                                                                 res3a_relu[0][0]                 \n",
            "__________________________________________________________________________________________________\n",
            "res3b_relu (Activation)         (None, None, None, 5 0           res3b[0][0]                      \n",
            "__________________________________________________________________________________________________\n",
            "res3c_branch2a (Conv2D)         (None, None, None, 1 65536       res3b_relu[0][0]                 \n",
            "__________________________________________________________________________________________________\n",
            "bn3c_branch2a (BatchNormalizati (None, None, None, 1 512         res3c_branch2a[0][0]             \n",
            "__________________________________________________________________________________________________\n",
            "res3c_branch2a_relu (Activation (None, None, None, 1 0           bn3c_branch2a[0][0]              \n",
            "__________________________________________________________________________________________________\n",
            "padding3c_branch2b (ZeroPadding (None, None, None, 1 0           res3c_branch2a_relu[0][0]        \n",
            "__________________________________________________________________________________________________\n",
            "res3c_branch2b (Conv2D)         (None, None, None, 1 147456      padding3c_branch2b[0][0]         \n",
            "__________________________________________________________________________________________________\n",
            "bn3c_branch2b (BatchNormalizati (None, None, None, 1 512         res3c_branch2b[0][0]             \n",
            "__________________________________________________________________________________________________\n",
            "res3c_branch2b_relu (Activation (None, None, None, 1 0           bn3c_branch2b[0][0]              \n",
            "__________________________________________________________________________________________________\n",
            "res3c_branch2c (Conv2D)         (None, None, None, 5 65536       res3c_branch2b_relu[0][0]        \n",
            "__________________________________________________________________________________________________\n",
            "bn3c_branch2c (BatchNormalizati (None, None, None, 5 2048        res3c_branch2c[0][0]             \n",
            "__________________________________________________________________________________________________\n",
            "res3c (Add)                     (None, None, None, 5 0           bn3c_branch2c[0][0]              \n",
            "                                                                 res3b_relu[0][0]                 \n",
            "__________________________________________________________________________________________________\n",
            "res3c_relu (Activation)         (None, None, None, 5 0           res3c[0][0]                      \n",
            "__________________________________________________________________________________________________\n",
            "res3d_branch2a (Conv2D)         (None, None, None, 1 65536       res3c_relu[0][0]                 \n",
            "__________________________________________________________________________________________________\n",
            "bn3d_branch2a (BatchNormalizati (None, None, None, 1 512         res3d_branch2a[0][0]             \n",
            "__________________________________________________________________________________________________\n",
            "res3d_branch2a_relu (Activation (None, None, None, 1 0           bn3d_branch2a[0][0]              \n",
            "__________________________________________________________________________________________________\n",
            "padding3d_branch2b (ZeroPadding (None, None, None, 1 0           res3d_branch2a_relu[0][0]        \n",
            "__________________________________________________________________________________________________\n",
            "res3d_branch2b (Conv2D)         (None, None, None, 1 147456      padding3d_branch2b[0][0]         \n",
            "__________________________________________________________________________________________________\n",
            "bn3d_branch2b (BatchNormalizati (None, None, None, 1 512         res3d_branch2b[0][0]             \n",
            "__________________________________________________________________________________________________\n",
            "res3d_branch2b_relu (Activation (None, None, None, 1 0           bn3d_branch2b[0][0]              \n",
            "__________________________________________________________________________________________________\n",
            "res3d_branch2c (Conv2D)         (None, None, None, 5 65536       res3d_branch2b_relu[0][0]        \n",
            "__________________________________________________________________________________________________\n",
            "bn3d_branch2c (BatchNormalizati (None, None, None, 5 2048        res3d_branch2c[0][0]             \n",
            "__________________________________________________________________________________________________\n",
            "res3d (Add)                     (None, None, None, 5 0           bn3d_branch2c[0][0]              \n",
            "                                                                 res3c_relu[0][0]                 \n",
            "__________________________________________________________________________________________________\n",
            "res3d_relu (Activation)         (None, None, None, 5 0           res3d[0][0]                      \n",
            "__________________________________________________________________________________________________\n",
            "res4a_branch2a (Conv2D)         (None, None, None, 2 131072      res3d_relu[0][0]                 \n",
            "__________________________________________________________________________________________________\n",
            "bn4a_branch2a (BatchNormalizati (None, None, None, 2 1024        res4a_branch2a[0][0]             \n",
            "__________________________________________________________________________________________________\n",
            "res4a_branch2a_relu (Activation (None, None, None, 2 0           bn4a_branch2a[0][0]              \n",
            "__________________________________________________________________________________________________\n",
            "padding4a_branch2b (ZeroPadding (None, None, None, 2 0           res4a_branch2a_relu[0][0]        \n",
            "__________________________________________________________________________________________________\n",
            "res4a_branch2b (Conv2D)         (None, None, None, 2 589824      padding4a_branch2b[0][0]         \n",
            "__________________________________________________________________________________________________\n",
            "bn4a_branch2b (BatchNormalizati (None, None, None, 2 1024        res4a_branch2b[0][0]             \n",
            "__________________________________________________________________________________________________\n",
            "res4a_branch2b_relu (Activation (None, None, None, 2 0           bn4a_branch2b[0][0]              \n",
            "__________________________________________________________________________________________________\n",
            "res4a_branch2c (Conv2D)         (None, None, None, 1 262144      res4a_branch2b_relu[0][0]        \n",
            "__________________________________________________________________________________________________\n",
            "res4a_branch1 (Conv2D)          (None, None, None, 1 524288      res3d_relu[0][0]                 \n",
            "__________________________________________________________________________________________________\n",
            "bn4a_branch2c (BatchNormalizati (None, None, None, 1 4096        res4a_branch2c[0][0]             \n",
            "__________________________________________________________________________________________________\n",
            "bn4a_branch1 (BatchNormalizatio (None, None, None, 1 4096        res4a_branch1[0][0]              \n",
            "__________________________________________________________________________________________________\n",
            "res4a (Add)                     (None, None, None, 1 0           bn4a_branch2c[0][0]              \n",
            "                                                                 bn4a_branch1[0][0]               \n",
            "__________________________________________________________________________________________________\n",
            "res4a_relu (Activation)         (None, None, None, 1 0           res4a[0][0]                      \n",
            "__________________________________________________________________________________________________\n",
            "res4b_branch2a (Conv2D)         (None, None, None, 2 262144      res4a_relu[0][0]                 \n",
            "__________________________________________________________________________________________________\n",
            "bn4b_branch2a (BatchNormalizati (None, None, None, 2 1024        res4b_branch2a[0][0]             \n",
            "__________________________________________________________________________________________________\n",
            "res4b_branch2a_relu (Activation (None, None, None, 2 0           bn4b_branch2a[0][0]              \n",
            "__________________________________________________________________________________________________\n",
            "padding4b_branch2b (ZeroPadding (None, None, None, 2 0           res4b_branch2a_relu[0][0]        \n",
            "__________________________________________________________________________________________________\n",
            "res4b_branch2b (Conv2D)         (None, None, None, 2 589824      padding4b_branch2b[0][0]         \n",
            "__________________________________________________________________________________________________\n",
            "bn4b_branch2b (BatchNormalizati (None, None, None, 2 1024        res4b_branch2b[0][0]             \n",
            "__________________________________________________________________________________________________\n",
            "res4b_branch2b_relu (Activation (None, None, None, 2 0           bn4b_branch2b[0][0]              \n",
            "__________________________________________________________________________________________________\n",
            "res4b_branch2c (Conv2D)         (None, None, None, 1 262144      res4b_branch2b_relu[0][0]        \n",
            "__________________________________________________________________________________________________\n",
            "bn4b_branch2c (BatchNormalizati (None, None, None, 1 4096        res4b_branch2c[0][0]             \n",
            "__________________________________________________________________________________________________\n",
            "res4b (Add)                     (None, None, None, 1 0           bn4b_branch2c[0][0]              \n",
            "                                                                 res4a_relu[0][0]                 \n",
            "__________________________________________________________________________________________________\n",
            "res4b_relu (Activation)         (None, None, None, 1 0           res4b[0][0]                      \n",
            "__________________________________________________________________________________________________\n",
            "res4c_branch2a (Conv2D)         (None, None, None, 2 262144      res4b_relu[0][0]                 \n",
            "__________________________________________________________________________________________________\n",
            "bn4c_branch2a (BatchNormalizati (None, None, None, 2 1024        res4c_branch2a[0][0]             \n",
            "__________________________________________________________________________________________________\n",
            "res4c_branch2a_relu (Activation (None, None, None, 2 0           bn4c_branch2a[0][0]              \n",
            "__________________________________________________________________________________________________\n",
            "padding4c_branch2b (ZeroPadding (None, None, None, 2 0           res4c_branch2a_relu[0][0]        \n",
            "__________________________________________________________________________________________________\n",
            "res4c_branch2b (Conv2D)         (None, None, None, 2 589824      padding4c_branch2b[0][0]         \n",
            "__________________________________________________________________________________________________\n",
            "bn4c_branch2b (BatchNormalizati (None, None, None, 2 1024        res4c_branch2b[0][0]             \n",
            "__________________________________________________________________________________________________\n",
            "res4c_branch2b_relu (Activation (None, None, None, 2 0           bn4c_branch2b[0][0]              \n",
            "__________________________________________________________________________________________________\n",
            "res4c_branch2c (Conv2D)         (None, None, None, 1 262144      res4c_branch2b_relu[0][0]        \n",
            "__________________________________________________________________________________________________\n",
            "bn4c_branch2c (BatchNormalizati (None, None, None, 1 4096        res4c_branch2c[0][0]             \n",
            "__________________________________________________________________________________________________\n",
            "res4c (Add)                     (None, None, None, 1 0           bn4c_branch2c[0][0]              \n",
            "                                                                 res4b_relu[0][0]                 \n",
            "__________________________________________________________________________________________________\n",
            "res4c_relu (Activation)         (None, None, None, 1 0           res4c[0][0]                      \n",
            "__________________________________________________________________________________________________\n",
            "res4d_branch2a (Conv2D)         (None, None, None, 2 262144      res4c_relu[0][0]                 \n",
            "__________________________________________________________________________________________________\n",
            "bn4d_branch2a (BatchNormalizati (None, None, None, 2 1024        res4d_branch2a[0][0]             \n",
            "__________________________________________________________________________________________________\n",
            "res4d_branch2a_relu (Activation (None, None, None, 2 0           bn4d_branch2a[0][0]              \n",
            "__________________________________________________________________________________________________\n",
            "padding4d_branch2b (ZeroPadding (None, None, None, 2 0           res4d_branch2a_relu[0][0]        \n",
            "__________________________________________________________________________________________________\n",
            "res4d_branch2b (Conv2D)         (None, None, None, 2 589824      padding4d_branch2b[0][0]         \n",
            "__________________________________________________________________________________________________\n",
            "bn4d_branch2b (BatchNormalizati (None, None, None, 2 1024        res4d_branch2b[0][0]             \n",
            "__________________________________________________________________________________________________\n",
            "res4d_branch2b_relu (Activation (None, None, None, 2 0           bn4d_branch2b[0][0]              \n",
            "__________________________________________________________________________________________________\n",
            "res4d_branch2c (Conv2D)         (None, None, None, 1 262144      res4d_branch2b_relu[0][0]        \n",
            "__________________________________________________________________________________________________\n",
            "bn4d_branch2c (BatchNormalizati (None, None, None, 1 4096        res4d_branch2c[0][0]             \n",
            "__________________________________________________________________________________________________\n",
            "res4d (Add)                     (None, None, None, 1 0           bn4d_branch2c[0][0]              \n",
            "                                                                 res4c_relu[0][0]                 \n",
            "__________________________________________________________________________________________________\n",
            "res4d_relu (Activation)         (None, None, None, 1 0           res4d[0][0]                      \n",
            "__________________________________________________________________________________________________\n",
            "res4e_branch2a (Conv2D)         (None, None, None, 2 262144      res4d_relu[0][0]                 \n",
            "__________________________________________________________________________________________________\n",
            "bn4e_branch2a (BatchNormalizati (None, None, None, 2 1024        res4e_branch2a[0][0]             \n",
            "__________________________________________________________________________________________________\n",
            "res4e_branch2a_relu (Activation (None, None, None, 2 0           bn4e_branch2a[0][0]              \n",
            "__________________________________________________________________________________________________\n",
            "padding4e_branch2b (ZeroPadding (None, None, None, 2 0           res4e_branch2a_relu[0][0]        \n",
            "__________________________________________________________________________________________________\n",
            "res4e_branch2b (Conv2D)         (None, None, None, 2 589824      padding4e_branch2b[0][0]         \n",
            "__________________________________________________________________________________________________\n",
            "bn4e_branch2b (BatchNormalizati (None, None, None, 2 1024        res4e_branch2b[0][0]             \n",
            "__________________________________________________________________________________________________\n",
            "res4e_branch2b_relu (Activation (None, None, None, 2 0           bn4e_branch2b[0][0]              \n",
            "__________________________________________________________________________________________________\n",
            "res4e_branch2c (Conv2D)         (None, None, None, 1 262144      res4e_branch2b_relu[0][0]        \n",
            "__________________________________________________________________________________________________\n",
            "bn4e_branch2c (BatchNormalizati (None, None, None, 1 4096        res4e_branch2c[0][0]             \n",
            "__________________________________________________________________________________________________\n",
            "res4e (Add)                     (None, None, None, 1 0           bn4e_branch2c[0][0]              \n",
            "                                                                 res4d_relu[0][0]                 \n",
            "__________________________________________________________________________________________________\n",
            "res4e_relu (Activation)         (None, None, None, 1 0           res4e[0][0]                      \n",
            "__________________________________________________________________________________________________\n",
            "res4f_branch2a (Conv2D)         (None, None, None, 2 262144      res4e_relu[0][0]                 \n",
            "__________________________________________________________________________________________________\n",
            "bn4f_branch2a (BatchNormalizati (None, None, None, 2 1024        res4f_branch2a[0][0]             \n",
            "__________________________________________________________________________________________________\n",
            "res4f_branch2a_relu (Activation (None, None, None, 2 0           bn4f_branch2a[0][0]              \n",
            "__________________________________________________________________________________________________\n",
            "padding4f_branch2b (ZeroPadding (None, None, None, 2 0           res4f_branch2a_relu[0][0]        \n",
            "__________________________________________________________________________________________________\n",
            "res4f_branch2b (Conv2D)         (None, None, None, 2 589824      padding4f_branch2b[0][0]         \n",
            "__________________________________________________________________________________________________\n",
            "bn4f_branch2b (BatchNormalizati (None, None, None, 2 1024        res4f_branch2b[0][0]             \n",
            "__________________________________________________________________________________________________\n",
            "res4f_branch2b_relu (Activation (None, None, None, 2 0           bn4f_branch2b[0][0]              \n",
            "__________________________________________________________________________________________________\n",
            "res4f_branch2c (Conv2D)         (None, None, None, 1 262144      res4f_branch2b_relu[0][0]        \n",
            "__________________________________________________________________________________________________\n",
            "bn4f_branch2c (BatchNormalizati (None, None, None, 1 4096        res4f_branch2c[0][0]             \n",
            "__________________________________________________________________________________________________\n",
            "res4f (Add)                     (None, None, None, 1 0           bn4f_branch2c[0][0]              \n",
            "                                                                 res4e_relu[0][0]                 \n",
            "__________________________________________________________________________________________________\n",
            "res4f_relu (Activation)         (None, None, None, 1 0           res4f[0][0]                      \n",
            "__________________________________________________________________________________________________\n",
            "res5a_branch2a (Conv2D)         (None, None, None, 5 524288      res4f_relu[0][0]                 \n",
            "__________________________________________________________________________________________________\n",
            "bn5a_branch2a (BatchNormalizati (None, None, None, 5 2048        res5a_branch2a[0][0]             \n",
            "__________________________________________________________________________________________________\n",
            "res5a_branch2a_relu (Activation (None, None, None, 5 0           bn5a_branch2a[0][0]              \n",
            "__________________________________________________________________________________________________\n",
            "padding5a_branch2b (ZeroPadding (None, None, None, 5 0           res5a_branch2a_relu[0][0]        \n",
            "__________________________________________________________________________________________________\n",
            "res5a_branch2b (Conv2D)         (None, None, None, 5 2359296     padding5a_branch2b[0][0]         \n",
            "__________________________________________________________________________________________________\n",
            "bn5a_branch2b (BatchNormalizati (None, None, None, 5 2048        res5a_branch2b[0][0]             \n",
            "__________________________________________________________________________________________________\n",
            "res5a_branch2b_relu (Activation (None, None, None, 5 0           bn5a_branch2b[0][0]              \n",
            "__________________________________________________________________________________________________\n",
            "res5a_branch2c (Conv2D)         (None, None, None, 2 1048576     res5a_branch2b_relu[0][0]        \n",
            "__________________________________________________________________________________________________\n",
            "res5a_branch1 (Conv2D)          (None, None, None, 2 2097152     res4f_relu[0][0]                 \n",
            "__________________________________________________________________________________________________\n",
            "bn5a_branch2c (BatchNormalizati (None, None, None, 2 8192        res5a_branch2c[0][0]             \n",
            "__________________________________________________________________________________________________\n",
            "bn5a_branch1 (BatchNormalizatio (None, None, None, 2 8192        res5a_branch1[0][0]              \n",
            "__________________________________________________________________________________________________\n",
            "res5a (Add)                     (None, None, None, 2 0           bn5a_branch2c[0][0]              \n",
            "                                                                 bn5a_branch1[0][0]               \n",
            "__________________________________________________________________________________________________\n",
            "res5a_relu (Activation)         (None, None, None, 2 0           res5a[0][0]                      \n",
            "__________________________________________________________________________________________________\n",
            "res5b_branch2a (Conv2D)         (None, None, None, 5 1048576     res5a_relu[0][0]                 \n",
            "__________________________________________________________________________________________________\n",
            "bn5b_branch2a (BatchNormalizati (None, None, None, 5 2048        res5b_branch2a[0][0]             \n",
            "__________________________________________________________________________________________________\n",
            "res5b_branch2a_relu (Activation (None, None, None, 5 0           bn5b_branch2a[0][0]              \n",
            "__________________________________________________________________________________________________\n",
            "padding5b_branch2b (ZeroPadding (None, None, None, 5 0           res5b_branch2a_relu[0][0]        \n",
            "__________________________________________________________________________________________________\n",
            "res5b_branch2b (Conv2D)         (None, None, None, 5 2359296     padding5b_branch2b[0][0]         \n",
            "__________________________________________________________________________________________________\n",
            "bn5b_branch2b (BatchNormalizati (None, None, None, 5 2048        res5b_branch2b[0][0]             \n",
            "__________________________________________________________________________________________________\n",
            "res5b_branch2b_relu (Activation (None, None, None, 5 0           bn5b_branch2b[0][0]              \n",
            "__________________________________________________________________________________________________\n",
            "res5b_branch2c (Conv2D)         (None, None, None, 2 1048576     res5b_branch2b_relu[0][0]        \n",
            "__________________________________________________________________________________________________\n",
            "bn5b_branch2c (BatchNormalizati (None, None, None, 2 8192        res5b_branch2c[0][0]             \n",
            "__________________________________________________________________________________________________\n",
            "res5b (Add)                     (None, None, None, 2 0           bn5b_branch2c[0][0]              \n",
            "                                                                 res5a_relu[0][0]                 \n",
            "__________________________________________________________________________________________________\n",
            "res5b_relu (Activation)         (None, None, None, 2 0           res5b[0][0]                      \n",
            "__________________________________________________________________________________________________\n",
            "res5c_branch2a (Conv2D)         (None, None, None, 5 1048576     res5b_relu[0][0]                 \n",
            "__________________________________________________________________________________________________\n",
            "bn5c_branch2a (BatchNormalizati (None, None, None, 5 2048        res5c_branch2a[0][0]             \n",
            "__________________________________________________________________________________________________\n",
            "res5c_branch2a_relu (Activation (None, None, None, 5 0           bn5c_branch2a[0][0]              \n",
            "__________________________________________________________________________________________________\n",
            "padding5c_branch2b (ZeroPadding (None, None, None, 5 0           res5c_branch2a_relu[0][0]        \n",
            "__________________________________________________________________________________________________\n",
            "res5c_branch2b (Conv2D)         (None, None, None, 5 2359296     padding5c_branch2b[0][0]         \n",
            "__________________________________________________________________________________________________\n",
            "bn5c_branch2b (BatchNormalizati (None, None, None, 5 2048        res5c_branch2b[0][0]             \n",
            "__________________________________________________________________________________________________\n",
            "res5c_branch2b_relu (Activation (None, None, None, 5 0           bn5c_branch2b[0][0]              \n",
            "__________________________________________________________________________________________________\n",
            "res5c_branch2c (Conv2D)         (None, None, None, 2 1048576     res5c_branch2b_relu[0][0]        \n",
            "__________________________________________________________________________________________________\n",
            "bn5c_branch2c (BatchNormalizati (None, None, None, 2 8192        res5c_branch2c[0][0]             \n",
            "__________________________________________________________________________________________________\n",
            "res5c (Add)                     (None, None, None, 2 0           bn5c_branch2c[0][0]              \n",
            "                                                                 res5b_relu[0][0]                 \n",
            "__________________________________________________________________________________________________\n",
            "res5c_relu (Activation)         (None, None, None, 2 0           res5c[0][0]                      \n",
            "__________________________________________________________________________________________________\n",
            "C5_reduced (Conv2D)             (None, None, None, 2 524544      res5c_relu[0][0]                 \n",
            "__________________________________________________________________________________________________\n",
            "P5_upsampled (UpsampleLike)     (None, None, None, 2 0           C5_reduced[0][0]                 \n",
            "                                                                 res4f_relu[0][0]                 \n",
            "__________________________________________________________________________________________________\n",
            "C4_reduced (Conv2D)             (None, None, None, 2 262400      res4f_relu[0][0]                 \n",
            "__________________________________________________________________________________________________\n",
            "P4_merged (Add)                 (None, None, None, 2 0           P5_upsampled[0][0]               \n",
            "                                                                 C4_reduced[0][0]                 \n",
            "__________________________________________________________________________________________________\n",
            "P4_upsampled (UpsampleLike)     (None, None, None, 2 0           P4_merged[0][0]                  \n",
            "                                                                 res3d_relu[0][0]                 \n",
            "__________________________________________________________________________________________________\n",
            "C3_reduced (Conv2D)             (None, None, None, 2 131328      res3d_relu[0][0]                 \n",
            "__________________________________________________________________________________________________\n",
            "P6 (Conv2D)                     (None, None, None, 2 4718848     res5c_relu[0][0]                 \n",
            "__________________________________________________________________________________________________\n",
            "P3_merged (Add)                 (None, None, None, 2 0           P4_upsampled[0][0]               \n",
            "                                                                 C3_reduced[0][0]                 \n",
            "__________________________________________________________________________________________________\n",
            "C6_relu (Activation)            (None, None, None, 2 0           P6[0][0]                         \n",
            "__________________________________________________________________________________________________\n",
            "P3 (Conv2D)                     (None, None, None, 2 590080      P3_merged[0][0]                  \n",
            "__________________________________________________________________________________________________\n",
            "P4 (Conv2D)                     (None, None, None, 2 590080      P4_merged[0][0]                  \n",
            "__________________________________________________________________________________________________\n",
            "P5 (Conv2D)                     (None, None, None, 2 590080      C5_reduced[0][0]                 \n",
            "__________________________________________________________________________________________________\n",
            "P7 (Conv2D)                     (None, None, None, 2 590080      C6_relu[0][0]                    \n",
            "__________________________________________________________________________________________________\n",
            "regression_submodel (Functional (None, None, 4)      2443300     P3[0][0]                         \n",
            "                                                                 P4[0][0]                         \n",
            "                                                                 P5[0][0]                         \n",
            "                                                                 P6[0][0]                         \n",
            "                                                                 P7[0][0]                         \n",
            "__________________________________________________________________________________________________\n",
            "classification_submodel (Functi (None, None, 2)      2401810     P3[0][0]                         \n",
            "                                                                 P4[0][0]                         \n",
            "                                                                 P5[0][0]                         \n",
            "                                                                 P6[0][0]                         \n",
            "                                                                 P7[0][0]                         \n",
            "__________________________________________________________________________________________________\n",
            "regression (Concatenate)        (None, None, 4)      0           regression_submodel[0][0]        \n",
            "                                                                 regression_submodel[1][0]        \n",
            "                                                                 regression_submodel[2][0]        \n",
            "                                                                 regression_submodel[3][0]        \n",
            "                                                                 regression_submodel[4][0]        \n",
            "__________________________________________________________________________________________________\n",
            "classification (Concatenate)    (None, None, 2)      0           classification_submodel[0][0]    \n",
            "                                                                 classification_submodel[1][0]    \n",
            "                                                                 classification_submodel[2][0]    \n",
            "                                                                 classification_submodel[3][0]    \n",
            "                                                                 classification_submodel[4][0]    \n",
            "==================================================================================================\n",
            "Total params: 36,403,702\n",
            "Trainable params: 12,842,550\n",
            "Non-trainable params: 23,561,152\n",
            "__________________________________________________________________________________________________\n",
            "None\n",
            "/usr/local/lib/python3.7/dist-packages/tensorflow/python/keras/engine/training.py:1844: UserWarning: `Model.fit_generator` is deprecated and will be removed in a future version. Please use `Model.fit`, which supports generators.\n",
            "  warnings.warn('`Model.fit_generator` is deprecated and '\n",
            "2021-03-27 03:01:45.802641: I tensorflow/compiler/mlir/mlir_graph_optimization_pass.cc:116] None of the MLIR optimization passes are enabled (registered 2)\n",
            "2021-03-27 03:01:45.803089: I tensorflow/core/platform/profile_utils/cpu_utils.cc:112] CPU Frequency: 2199995000 Hz\n",
            "Epoch 1/100\n",
            "2021-03-27 03:01:51.195019: I tensorflow/stream_executor/platform/default/dso_loader.cc:49] Successfully opened dynamic library libcudnn.so.8\n",
            "2021-03-27 03:01:53.616469: I tensorflow/stream_executor/platform/default/dso_loader.cc:49] Successfully opened dynamic library libcublas.so.11\n",
            "2021-03-27 03:01:54.081772: I tensorflow/stream_executor/platform/default/dso_loader.cc:49] Successfully opened dynamic library libcublasLt.so.11\n",
            "78/78 [==============================] - 81s 871ms/step - loss: 3.6159 - regression_loss: 2.4822 - classification_loss: 1.1337\n",
            "\n",
            "Epoch 00001: saving model to ./snapshots/resnet50_csv_01.h5\n",
            "Epoch 2/100\n",
            "78/78 [==============================] - 69s 884ms/step - loss: 2.6205 - regression_loss: 1.7658 - classification_loss: 0.8547\n",
            "\n",
            "Epoch 00002: saving model to ./snapshots/resnet50_csv_02.h5\n",
            "Epoch 3/100\n",
            "78/78 [==============================] - 69s 886ms/step - loss: 2.1328 - regression_loss: 1.5919 - classification_loss: 0.5409\n",
            "\n",
            "Epoch 00003: saving model to ./snapshots/resnet50_csv_03.h5\n",
            "Epoch 4/100\n",
            "78/78 [==============================] - 69s 886ms/step - loss: 1.9710 - regression_loss: 1.5119 - classification_loss: 0.4591\n",
            "\n",
            "Epoch 00004: saving model to ./snapshots/resnet50_csv_04.h5\n",
            "Epoch 5/100\n",
            "78/78 [==============================] - 69s 885ms/step - loss: 1.9141 - regression_loss: 1.4725 - classification_loss: 0.4416\n",
            "\n",
            "Epoch 00005: saving model to ./snapshots/resnet50_csv_05.h5\n",
            "Epoch 6/100\n",
            "78/78 [==============================] - 70s 887ms/step - loss: 1.8238 - regression_loss: 1.4040 - classification_loss: 0.4197\n",
            "\n",
            "Epoch 00006: saving model to ./snapshots/resnet50_csv_06.h5\n",
            "Epoch 7/100\n",
            "78/78 [==============================] - 69s 885ms/step - loss: 1.8157 - regression_loss: 1.4053 - classification_loss: 0.4104\n",
            "\n",
            "Epoch 00007: saving model to ./snapshots/resnet50_csv_07.h5\n",
            "Epoch 8/100\n",
            "78/78 [==============================] - 70s 887ms/step - loss: 1.7487 - regression_loss: 1.3654 - classification_loss: 0.3833\n",
            "\n",
            "Epoch 00008: saving model to ./snapshots/resnet50_csv_08.h5\n",
            "Epoch 9/100\n",
            "78/78 [==============================] - 70s 887ms/step - loss: 1.7467 - regression_loss: 1.3701 - classification_loss: 0.3765\n",
            "\n",
            "Epoch 00009: saving model to ./snapshots/resnet50_csv_09.h5\n",
            "Epoch 10/100\n",
            "78/78 [==============================] - 70s 887ms/step - loss: 1.7074 - regression_loss: 1.3426 - classification_loss: 0.3648\n",
            "\n",
            "Epoch 00010: saving model to ./snapshots/resnet50_csv_10.h5\n",
            "Epoch 11/100\n",
            "78/78 [==============================] - 70s 887ms/step - loss: 1.6653 - regression_loss: 1.3158 - classification_loss: 0.3495\n",
            "\n",
            "Epoch 00011: saving model to ./snapshots/resnet50_csv_11.h5\n",
            "Epoch 12/100\n",
            "78/78 [==============================] - 70s 887ms/step - loss: 1.6205 - regression_loss: 1.2886 - classification_loss: 0.3320\n",
            "\n",
            "Epoch 00012: saving model to ./snapshots/resnet50_csv_12.h5\n",
            "Epoch 13/100\n",
            "78/78 [==============================] - 70s 887ms/step - loss: 1.6128 - regression_loss: 1.2751 - classification_loss: 0.3376\n",
            "\n",
            "Epoch 00013: saving model to ./snapshots/resnet50_csv_13.h5\n",
            "Epoch 14/100\n",
            "78/78 [==============================] - 70s 887ms/step - loss: 1.5816 - regression_loss: 1.2607 - classification_loss: 0.3209\n",
            "\n",
            "Epoch 00014: saving model to ./snapshots/resnet50_csv_14.h5\n",
            "Epoch 15/100\n",
            "78/78 [==============================] - 70s 887ms/step - loss: 1.5335 - regression_loss: 1.2272 - classification_loss: 0.3063\n",
            "\n",
            "Epoch 00015: saving model to ./snapshots/resnet50_csv_15.h5\n",
            "Epoch 16/100\n",
            "78/78 [==============================] - 70s 887ms/step - loss: 1.5154 - regression_loss: 1.2117 - classification_loss: 0.3037\n",
            "\n",
            "Epoch 00016: saving model to ./snapshots/resnet50_csv_16.h5\n",
            "Epoch 17/100\n",
            "78/78 [==============================] - 70s 887ms/step - loss: 1.5245 - regression_loss: 1.2204 - classification_loss: 0.3041\n",
            "\n",
            "Epoch 00017: saving model to ./snapshots/resnet50_csv_17.h5\n",
            "Epoch 18/100\n",
            "78/78 [==============================] - 69s 886ms/step - loss: 1.5323 - regression_loss: 1.2313 - classification_loss: 0.3011\n",
            "\n",
            "Epoch 00018: saving model to ./snapshots/resnet50_csv_18.h5\n",
            "Epoch 19/100\n",
            "78/78 [==============================] - 70s 887ms/step - loss: 1.5129 - regression_loss: 1.2107 - classification_loss: 0.3022\n",
            "\n",
            "Epoch 00019: saving model to ./snapshots/resnet50_csv_19.h5\n",
            "Epoch 20/100\n",
            "78/78 [==============================] - 70s 887ms/step - loss: 1.4871 - regression_loss: 1.2043 - classification_loss: 0.2828\n",
            "\n",
            "Epoch 00020: saving model to ./snapshots/resnet50_csv_20.h5\n",
            "Epoch 21/100\n",
            "78/78 [==============================] - 70s 887ms/step - loss: 1.4698 - regression_loss: 1.1801 - classification_loss: 0.2897\n",
            "\n",
            "Epoch 00021: saving model to ./snapshots/resnet50_csv_21.h5\n",
            "Epoch 22/100\n",
            "78/78 [==============================] - 70s 888ms/step - loss: 1.4732 - regression_loss: 1.1928 - classification_loss: 0.2804\n",
            "\n",
            "Epoch 00022: saving model to ./snapshots/resnet50_csv_22.h5\n",
            "Epoch 23/100\n",
            "78/78 [==============================] - 70s 886ms/step - loss: 1.4303 - regression_loss: 1.1605 - classification_loss: 0.2699\n",
            "\n",
            "Epoch 00023: saving model to ./snapshots/resnet50_csv_23.h5\n",
            "Epoch 24/100\n",
            "78/78 [==============================] - 70s 887ms/step - loss: 1.4424 - regression_loss: 1.1693 - classification_loss: 0.2730\n",
            "\n",
            "Epoch 00024: saving model to ./snapshots/resnet50_csv_24.h5\n",
            "Epoch 25/100\n",
            "78/78 [==============================] - 70s 887ms/step - loss: 1.4318 - regression_loss: 1.1671 - classification_loss: 0.2648\n",
            "\n",
            "Epoch 00025: saving model to ./snapshots/resnet50_csv_25.h5\n",
            "Epoch 26/100\n",
            "78/78 [==============================] - 70s 887ms/step - loss: 1.4421 - regression_loss: 1.1688 - classification_loss: 0.2733\n",
            "\n",
            "Epoch 00026: saving model to ./snapshots/resnet50_csv_26.h5\n",
            "Epoch 27/100\n",
            "78/78 [==============================] - 69s 886ms/step - loss: 1.4466 - regression_loss: 1.1793 - classification_loss: 0.2673\n",
            "\n",
            "Epoch 00027: saving model to ./snapshots/resnet50_csv_27.h5\n",
            "Epoch 28/100\n",
            "78/78 [==============================] - 70s 887ms/step - loss: 1.3911 - regression_loss: 1.1411 - classification_loss: 0.2500\n",
            "\n",
            "Epoch 00028: saving model to ./snapshots/resnet50_csv_28.h5\n",
            "Epoch 29/100\n",
            "78/78 [==============================] - 70s 887ms/step - loss: 1.4173 - regression_loss: 1.1557 - classification_loss: 0.2617\n",
            "\n",
            "Epoch 00029: saving model to ./snapshots/resnet50_csv_29.h5\n",
            "Epoch 30/100\n",
            "78/78 [==============================] - 70s 888ms/step - loss: 1.4005 - regression_loss: 1.1437 - classification_loss: 0.2568\n",
            "\n",
            "Epoch 00030: saving model to ./snapshots/resnet50_csv_30.h5\n",
            "Epoch 31/100\n",
            "78/78 [==============================] - 70s 888ms/step - loss: 1.3958 - regression_loss: 1.1348 - classification_loss: 0.2610\n",
            "\n",
            "Epoch 00031: saving model to ./snapshots/resnet50_csv_31.h5\n",
            "Epoch 32/100\n",
            "78/78 [==============================] - 70s 889ms/step - loss: 1.3869 - regression_loss: 1.1277 - classification_loss: 0.2592\n",
            "\n",
            "Epoch 00032: saving model to ./snapshots/resnet50_csv_32.h5\n",
            "Epoch 33/100\n",
            "78/78 [==============================] - 70s 888ms/step - loss: 1.3867 - regression_loss: 1.1414 - classification_loss: 0.2453\n",
            "\n",
            "Epoch 00033: saving model to ./snapshots/resnet50_csv_33.h5\n",
            "Epoch 34/100\n",
            "78/78 [==============================] - 70s 889ms/step - loss: 1.3315 - regression_loss: 1.0933 - classification_loss: 0.2382\n",
            "\n",
            "Epoch 00034: saving model to ./snapshots/resnet50_csv_34.h5\n",
            "Epoch 35/100\n",
            "78/78 [==============================] - 70s 889ms/step - loss: 1.3479 - regression_loss: 1.1075 - classification_loss: 0.2404\n",
            "\n",
            "Epoch 00035: saving model to ./snapshots/resnet50_csv_35.h5\n",
            "Epoch 36/100\n",
            "78/78 [==============================] - 70s 888ms/step - loss: 1.3329 - regression_loss: 1.0953 - classification_loss: 0.2376\n",
            "\n",
            "Epoch 00036: saving model to ./snapshots/resnet50_csv_36.h5\n",
            "\n",
            "Epoch 00036: ReduceLROnPlateau reducing learning rate to 9.999999747378752e-07.\n",
            "Epoch 37/100\n",
            "78/78 [==============================] - 70s 888ms/step - loss: 1.3263 - regression_loss: 1.0881 - classification_loss: 0.2382\n",
            "\n",
            "Epoch 00037: saving model to ./snapshots/resnet50_csv_37.h5\n",
            "Epoch 38/100\n",
            "78/78 [==============================] - 70s 889ms/step - loss: 1.3652 - regression_loss: 1.1199 - classification_loss: 0.2453\n",
            "\n",
            "Epoch 00038: saving model to ./snapshots/resnet50_csv_38.h5\n",
            "\n",
            "Epoch 00038: ReduceLROnPlateau reducing learning rate to 9.999999974752428e-08.\n",
            "Epoch 39/100\n",
            "78/78 [==============================] - 70s 888ms/step - loss: 1.3315 - regression_loss: 1.1003 - classification_loss: 0.2312\n",
            "\n",
            "Epoch 00039: saving model to ./snapshots/resnet50_csv_39.h5\n",
            "Epoch 40/100\n",
            "78/78 [==============================] - 70s 888ms/step - loss: 1.3397 - regression_loss: 1.1009 - classification_loss: 0.2388\n",
            "\n",
            "Epoch 00040: saving model to ./snapshots/resnet50_csv_40.h5\n",
            "Epoch 41/100\n",
            "78/78 [==============================] - 70s 888ms/step - loss: 1.3606 - regression_loss: 1.1178 - classification_loss: 0.2428\n",
            "\n",
            "Epoch 00041: saving model to ./snapshots/resnet50_csv_41.h5\n",
            "\n",
            "Epoch 00041: ReduceLROnPlateau reducing learning rate to 1.0000000116860975e-08.\n",
            "Epoch 42/100\n",
            "78/78 [==============================] - 70s 889ms/step - loss: 1.3077 - regression_loss: 1.0749 - classification_loss: 0.2328\n",
            "\n",
            "Epoch 00042: saving model to ./snapshots/resnet50_csv_42.h5\n",
            "Epoch 43/100\n",
            "78/78 [==============================] - 70s 888ms/step - loss: 1.2974 - regression_loss: 1.0756 - classification_loss: 0.2218\n",
            "\n",
            "Epoch 00043: saving model to ./snapshots/resnet50_csv_43.h5\n",
            "Epoch 44/100\n",
            "78/78 [==============================] - 70s 889ms/step - loss: 1.3136 - regression_loss: 1.0858 - classification_loss: 0.2278\n",
            "\n",
            "Epoch 00044: saving model to ./snapshots/resnet50_csv_44.h5\n",
            "Epoch 45/100\n",
            "78/78 [==============================] - 70s 888ms/step - loss: 1.3558 - regression_loss: 1.1099 - classification_loss: 0.2458\n",
            "\n",
            "Epoch 00045: saving model to ./snapshots/resnet50_csv_45.h5\n",
            "\n",
            "Epoch 00045: ReduceLROnPlateau reducing learning rate to 9.999999939225292e-10.\n",
            "Epoch 46/100\n",
            "78/78 [==============================] - 70s 887ms/step - loss: 1.3495 - regression_loss: 1.1093 - classification_loss: 0.2402\n",
            "\n",
            "Epoch 00046: saving model to ./snapshots/resnet50_csv_46.h5\n",
            "Epoch 47/100\n",
            "78/78 [==============================] - 70s 889ms/step - loss: 1.3586 - regression_loss: 1.1093 - classification_loss: 0.2493\n",
            "\n",
            "Epoch 00047: saving model to ./snapshots/resnet50_csv_47.h5\n",
            "\n",
            "Epoch 00047: ReduceLROnPlateau reducing learning rate to 9.999999717180686e-11.\n",
            "Epoch 48/100\n",
            "78/78 [==============================] - 70s 888ms/step - loss: 1.3444 - regression_loss: 1.1061 - classification_loss: 0.2383\n",
            "\n",
            "Epoch 00048: saving model to ./snapshots/resnet50_csv_48.h5\n",
            "Epoch 49/100\n",
            "78/78 [==============================] - 70s 889ms/step - loss: 1.2982 - regression_loss: 1.0705 - classification_loss: 0.2277\n",
            "\n",
            "Epoch 00049: saving model to ./snapshots/resnet50_csv_49.h5\n",
            "Epoch 50/100\n",
            "78/78 [==============================] - 70s 889ms/step - loss: 1.3251 - regression_loss: 1.0942 - classification_loss: 0.2309\n",
            "\n",
            "Epoch 00050: saving model to ./snapshots/resnet50_csv_50.h5\n",
            "Epoch 51/100\n",
            "78/78 [==============================] - 70s 889ms/step - loss: 1.3178 - regression_loss: 1.0794 - classification_loss: 0.2384\n",
            "\n",
            "Epoch 00051: saving model to ./snapshots/resnet50_csv_51.h5\n",
            "\n",
            "Epoch 00051: ReduceLROnPlateau reducing learning rate to 9.99999943962493e-12.\n",
            "Epoch 52/100\n",
            "78/78 [==============================] - 70s 889ms/step - loss: 1.3609 - regression_loss: 1.1189 - classification_loss: 0.2420\n",
            "\n",
            "Epoch 00052: saving model to ./snapshots/resnet50_csv_52.h5\n",
            "Epoch 53/100\n",
            "78/78 [==============================] - 70s 887ms/step - loss: 1.3319 - regression_loss: 1.0942 - classification_loss: 0.2377\n",
            "\n",
            "Epoch 00053: saving model to ./snapshots/resnet50_csv_53.h5\n",
            "\n",
            "Epoch 00053: ReduceLROnPlateau reducing learning rate to 9.999999092680235e-13.\n",
            "Epoch 54/100\n",
            "78/78 [==============================] - 70s 888ms/step - loss: 1.3478 - regression_loss: 1.1112 - classification_loss: 0.2366\n",
            "\n",
            "Epoch 00054: saving model to ./snapshots/resnet50_csv_54.h5\n",
            "Epoch 55/100\n",
            "78/78 [==============================] - 70s 887ms/step - loss: 1.3414 - regression_loss: 1.1060 - classification_loss: 0.2354\n",
            "\n",
            "Epoch 00055: saving model to ./snapshots/resnet50_csv_55.h5\n",
            "\n",
            "Epoch 00055: ReduceLROnPlateau reducing learning rate to 9.9999988758398e-14.\n",
            "Epoch 56/100\n",
            "78/78 [==============================] - 70s 888ms/step - loss: 1.3210 - regression_loss: 1.0938 - classification_loss: 0.2273\n",
            "\n",
            "Epoch 00056: saving model to ./snapshots/resnet50_csv_56.h5\n",
            "Epoch 57/100\n",
            "78/78 [==============================] - 70s 888ms/step - loss: 1.3065 - regression_loss: 1.0790 - classification_loss: 0.2275\n",
            "\n",
            "Epoch 00057: saving model to ./snapshots/resnet50_csv_57.h5\n",
            "\n",
            "Epoch 00057: ReduceLROnPlateau reducing learning rate to 9.999999146890344e-15.\n",
            "Epoch 58/100\n",
            "78/78 [==============================] - 70s 888ms/step - loss: 1.3461 - regression_loss: 1.1074 - classification_loss: 0.2387\n",
            "\n",
            "Epoch 00058: saving model to ./snapshots/resnet50_csv_58.h5\n",
            "Epoch 59/100\n",
            "78/78 [==============================] - 70s 888ms/step - loss: 1.3221 - regression_loss: 1.0968 - classification_loss: 0.2253\n",
            "\n",
            "Epoch 00059: saving model to ./snapshots/resnet50_csv_59.h5\n",
            "\n",
            "Epoch 00059: ReduceLROnPlateau reducing learning rate to 9.999998977483753e-16.\n",
            "Epoch 60/100\n",
            "78/78 [==============================] - 70s 888ms/step - loss: 1.3357 - regression_loss: 1.0976 - classification_loss: 0.2381\n",
            "\n",
            "Epoch 00060: saving model to ./snapshots/resnet50_csv_60.h5\n",
            "Epoch 61/100\n",
            "78/78 [==============================] - 70s 889ms/step - loss: 1.3450 - regression_loss: 1.1036 - classification_loss: 0.2414\n",
            "\n",
            "Epoch 00061: saving model to ./snapshots/resnet50_csv_61.h5\n",
            "\n",
            "Epoch 00061: ReduceLROnPlateau reducing learning rate to 9.999998977483754e-17.\n",
            "Epoch 62/100\n",
            "78/78 [==============================] - 70s 889ms/step - loss: 1.3441 - regression_loss: 1.1065 - classification_loss: 0.2376\n",
            "\n",
            "Epoch 00062: saving model to ./snapshots/resnet50_csv_62.h5\n",
            "Epoch 63/100\n",
            "78/78 [==============================] - 70s 889ms/step - loss: 1.3595 - regression_loss: 1.1145 - classification_loss: 0.2450\n",
            "\n",
            "Epoch 00063: saving model to ./snapshots/resnet50_csv_63.h5\n",
            "\n",
            "Epoch 00063: ReduceLROnPlateau reducing learning rate to 9.999998845134856e-18.\n",
            "Epoch 64/100\n",
            "78/78 [==============================] - 70s 889ms/step - loss: 1.3233 - regression_loss: 1.0936 - classification_loss: 0.2297\n",
            "\n",
            "Epoch 00064: saving model to ./snapshots/resnet50_csv_64.h5\n",
            "Epoch 65/100\n",
            "78/78 [==============================] - 70s 888ms/step - loss: 1.3415 - regression_loss: 1.1092 - classification_loss: 0.2324\n",
            "\n",
            "Epoch 00065: saving model to ./snapshots/resnet50_csv_65.h5\n",
            "\n",
            "Epoch 00065: ReduceLROnPlateau reducing learning rate to 9.999999010570977e-19.\n",
            "Epoch 66/100\n",
            "78/78 [==============================] - 70s 889ms/step - loss: 1.3267 - regression_loss: 1.0914 - classification_loss: 0.2353\n",
            "\n",
            "Epoch 00066: saving model to ./snapshots/resnet50_csv_66.h5\n",
            "Epoch 67/100\n",
            "78/78 [==============================] - 70s 888ms/step - loss: 1.3154 - regression_loss: 1.0888 - classification_loss: 0.2266\n",
            "\n",
            "Epoch 00067: saving model to ./snapshots/resnet50_csv_67.h5\n",
            "\n",
            "Epoch 00067: ReduceLROnPlateau reducing learning rate to 9.999999424161285e-20.\n",
            "Epoch 68/100\n",
            "78/78 [==============================] - 70s 888ms/step - loss: 1.3242 - regression_loss: 1.0909 - classification_loss: 0.2333\n",
            "\n",
            "Epoch 00068: saving model to ./snapshots/resnet50_csv_68.h5\n",
            "Epoch 69/100\n",
            "78/78 [==============================] - 70s 889ms/step - loss: 1.3316 - regression_loss: 1.1002 - classification_loss: 0.2314\n",
            "\n",
            "Epoch 00069: saving model to ./snapshots/resnet50_csv_69.h5\n",
            "\n",
            "Epoch 00069: ReduceLROnPlateau reducing learning rate to 9.999999682655225e-21.\n",
            "Epoch 70/100\n",
            "78/78 [==============================] - 70s 889ms/step - loss: 1.3312 - regression_loss: 1.0948 - classification_loss: 0.2363\n",
            "\n",
            "Epoch 00070: saving model to ./snapshots/resnet50_csv_70.h5\n",
            "Epoch 71/100\n",
            "78/78 [==============================] - 70s 888ms/step - loss: 1.3604 - regression_loss: 1.1197 - classification_loss: 0.2407\n",
            "\n",
            "Epoch 00071: saving model to ./snapshots/resnet50_csv_71.h5\n",
            "\n",
            "Epoch 00071: ReduceLROnPlateau reducing learning rate to 9.999999682655225e-22.\n",
            "Epoch 72/100\n",
            "78/78 [==============================] - 70s 889ms/step - loss: 1.3386 - regression_loss: 1.1017 - classification_loss: 0.2369\n",
            "\n",
            "Epoch 00072: saving model to ./snapshots/resnet50_csv_72.h5\n",
            "Epoch 73/100\n",
            "78/78 [==============================] - 70s 888ms/step - loss: 1.3421 - regression_loss: 1.1037 - classification_loss: 0.2384\n",
            "\n",
            "Epoch 00073: saving model to ./snapshots/resnet50_csv_73.h5\n",
            "\n",
            "Epoch 00073: ReduceLROnPlateau reducing learning rate to 9.999999682655225e-23.\n",
            "Epoch 74/100\n",
            "78/78 [==============================] - 70s 889ms/step - loss: 1.3574 - regression_loss: 1.1203 - classification_loss: 0.2371\n",
            "\n",
            "Epoch 00074: saving model to ./snapshots/resnet50_csv_74.h5\n",
            "Epoch 75/100\n",
            "78/78 [==============================] - 70s 888ms/step - loss: 1.3479 - regression_loss: 1.1090 - classification_loss: 0.2389\n",
            "\n",
            "Epoch 00075: saving model to ./snapshots/resnet50_csv_75.h5\n",
            "\n",
            "Epoch 00075: ReduceLROnPlateau reducing learning rate to 9.999999682655227e-24.\n",
            "Epoch 76/100\n",
            "78/78 [==============================] - 70s 889ms/step - loss: 1.3395 - regression_loss: 1.0961 - classification_loss: 0.2434\n",
            "\n",
            "Epoch 00076: saving model to ./snapshots/resnet50_csv_76.h5\n",
            "Epoch 77/100\n",
            "78/78 [==============================] - 70s 888ms/step - loss: 1.3289 - regression_loss: 1.0943 - classification_loss: 0.2346\n",
            "\n",
            "Epoch 00077: saving model to ./snapshots/resnet50_csv_77.h5\n",
            "\n",
            "Epoch 00077: ReduceLROnPlateau reducing learning rate to 9.999999998199588e-25.\n",
            "Epoch 78/100\n",
            "78/78 [==============================] - 70s 887ms/step - loss: 1.3506 - regression_loss: 1.1136 - classification_loss: 0.2370\n",
            "\n",
            "Epoch 00078: saving model to ./snapshots/resnet50_csv_78.h5\n",
            "Epoch 79/100\n",
            "78/78 [==============================] - 70s 888ms/step - loss: 1.2999 - regression_loss: 1.0746 - classification_loss: 0.2252\n",
            "\n",
            "Epoch 00079: saving model to ./snapshots/resnet50_csv_79.h5\n",
            "\n",
            "Epoch 00079: ReduceLROnPlateau reducing learning rate to 1.0000000195414814e-25.\n",
            "Epoch 80/100\n",
            "29/78 [==========>...................] - ETA: 44s - loss: 1.3700 - regression_loss: 1.1163 - classification_loss: 0.2537^C\n"
          ],
          "name": "stdout"
        }
      ]
    },
    {
      "cell_type": "markdown",
      "metadata": {
        "id": "_96nXzDfavmp"
      },
      "source": [
        "## Evaluate model"
      ]
    },
    {
      "cell_type": "code",
      "metadata": {
        "id": "bXs3KKVRWKku",
        "colab": {
          "base_uri": "https://localhost:8080/"
        },
        "outputId": "6737d225-39d3-426e-ece9-f162e0080919"
      },
      "source": [
        "# path to trained weights\n",
        "model_1_path = os.path.join('/content/run_1/snapshots/', sorted(os.listdir('/content/run_1/snapshots/'), reverse=True)[0])\n",
        "print(model_1_path)\n",
        "\n",
        "# evaluate model on test.csv\n",
        "!python /content/keras-retinanet/keras_retinanet/bin/evaluate.py \\\n",
        "csv '/content/images_subset/test.csv' \\\n",
        "'/content/images_subset/classes.csv' \\\n",
        "{model_1_path} --convert-model\n",
        "\n",
        "%cd .."
      ],
      "execution_count": null,
      "outputs": [
        {
          "output_type": "stream",
          "text": [
            "/content/run_1/snapshots/resnet50_csv_79.h5\n",
            "2021-03-27 04:51:47.225458: I tensorflow/stream_executor/platform/default/dso_loader.cc:49] Successfully opened dynamic library libcudart.so.11.0\n",
            "Loading model, this may take a second...\n",
            "2021-03-27 04:51:54.434595: I tensorflow/compiler/jit/xla_cpu_device.cc:41] Not creating XLA devices, tf_xla_enable_xla_devices not set\n",
            "2021-03-27 04:51:54.446522: I tensorflow/stream_executor/platform/default/dso_loader.cc:49] Successfully opened dynamic library libcuda.so.1\n",
            "2021-03-27 04:51:54.524459: I tensorflow/stream_executor/cuda/cuda_gpu_executor.cc:941] successful NUMA node read from SysFS had negative value (-1), but there must be at least one NUMA node, so returning NUMA node zero\n",
            "2021-03-27 04:51:54.525084: I tensorflow/core/common_runtime/gpu/gpu_device.cc:1720] Found device 0 with properties: \n",
            "pciBusID: 0000:00:04.0 name: Tesla T4 computeCapability: 7.5\n",
            "coreClock: 1.59GHz coreCount: 40 deviceMemorySize: 14.75GiB deviceMemoryBandwidth: 298.08GiB/s\n",
            "2021-03-27 04:51:54.525129: I tensorflow/stream_executor/platform/default/dso_loader.cc:49] Successfully opened dynamic library libcudart.so.11.0\n",
            "2021-03-27 04:51:54.652207: I tensorflow/stream_executor/platform/default/dso_loader.cc:49] Successfully opened dynamic library libcublas.so.11\n",
            "2021-03-27 04:51:54.652312: I tensorflow/stream_executor/platform/default/dso_loader.cc:49] Successfully opened dynamic library libcublasLt.so.11\n",
            "2021-03-27 04:51:54.790144: I tensorflow/stream_executor/platform/default/dso_loader.cc:49] Successfully opened dynamic library libcufft.so.10\n",
            "2021-03-27 04:51:54.837807: I tensorflow/stream_executor/platform/default/dso_loader.cc:49] Successfully opened dynamic library libcurand.so.10\n",
            "2021-03-27 04:51:55.087806: I tensorflow/stream_executor/platform/default/dso_loader.cc:49] Successfully opened dynamic library libcusolver.so.10\n",
            "2021-03-27 04:51:55.140780: I tensorflow/stream_executor/platform/default/dso_loader.cc:49] Successfully opened dynamic library libcusparse.so.11\n",
            "2021-03-27 04:51:55.141804: I tensorflow/stream_executor/platform/default/dso_loader.cc:49] Successfully opened dynamic library libcudnn.so.8\n",
            "2021-03-27 04:51:55.141948: I tensorflow/stream_executor/cuda/cuda_gpu_executor.cc:941] successful NUMA node read from SysFS had negative value (-1), but there must be at least one NUMA node, so returning NUMA node zero\n",
            "2021-03-27 04:51:55.142582: I tensorflow/stream_executor/cuda/cuda_gpu_executor.cc:941] successful NUMA node read from SysFS had negative value (-1), but there must be at least one NUMA node, so returning NUMA node zero\n",
            "2021-03-27 04:51:55.145108: I tensorflow/core/common_runtime/gpu/gpu_device.cc:1862] Adding visible gpu devices: 0\n",
            "2021-03-27 04:51:55.146508: I tensorflow/compiler/jit/xla_gpu_device.cc:99] Not creating XLA devices, tf_xla_enable_xla_devices not set\n",
            "2021-03-27 04:51:55.146635: I tensorflow/stream_executor/cuda/cuda_gpu_executor.cc:941] successful NUMA node read from SysFS had negative value (-1), but there must be at least one NUMA node, so returning NUMA node zero\n",
            "2021-03-27 04:51:55.147196: I tensorflow/core/common_runtime/gpu/gpu_device.cc:1720] Found device 0 with properties: \n",
            "pciBusID: 0000:00:04.0 name: Tesla T4 computeCapability: 7.5\n",
            "coreClock: 1.59GHz coreCount: 40 deviceMemorySize: 14.75GiB deviceMemoryBandwidth: 298.08GiB/s\n",
            "2021-03-27 04:51:55.147230: I tensorflow/stream_executor/platform/default/dso_loader.cc:49] Successfully opened dynamic library libcudart.so.11.0\n",
            "2021-03-27 04:51:55.147282: I tensorflow/stream_executor/platform/default/dso_loader.cc:49] Successfully opened dynamic library libcublas.so.11\n",
            "2021-03-27 04:51:55.147306: I tensorflow/stream_executor/platform/default/dso_loader.cc:49] Successfully opened dynamic library libcublasLt.so.11\n",
            "2021-03-27 04:51:55.147324: I tensorflow/stream_executor/platform/default/dso_loader.cc:49] Successfully opened dynamic library libcufft.so.10\n",
            "2021-03-27 04:51:55.147347: I tensorflow/stream_executor/platform/default/dso_loader.cc:49] Successfully opened dynamic library libcurand.so.10\n",
            "2021-03-27 04:51:55.147369: I tensorflow/stream_executor/platform/default/dso_loader.cc:49] Successfully opened dynamic library libcusolver.so.10\n",
            "2021-03-27 04:51:55.147388: I tensorflow/stream_executor/platform/default/dso_loader.cc:49] Successfully opened dynamic library libcusparse.so.11\n",
            "2021-03-27 04:51:55.147407: I tensorflow/stream_executor/platform/default/dso_loader.cc:49] Successfully opened dynamic library libcudnn.so.8\n",
            "2021-03-27 04:51:55.147476: I tensorflow/stream_executor/cuda/cuda_gpu_executor.cc:941] successful NUMA node read from SysFS had negative value (-1), but there must be at least one NUMA node, so returning NUMA node zero\n",
            "2021-03-27 04:51:55.148096: I tensorflow/stream_executor/cuda/cuda_gpu_executor.cc:941] successful NUMA node read from SysFS had negative value (-1), but there must be at least one NUMA node, so returning NUMA node zero\n",
            "2021-03-27 04:51:55.148611: I tensorflow/core/common_runtime/gpu/gpu_device.cc:1862] Adding visible gpu devices: 0\n",
            "2021-03-27 04:51:55.151439: I tensorflow/stream_executor/platform/default/dso_loader.cc:49] Successfully opened dynamic library libcudart.so.11.0\n",
            "2021-03-27 04:51:59.557237: I tensorflow/core/common_runtime/gpu/gpu_device.cc:1261] Device interconnect StreamExecutor with strength 1 edge matrix:\n",
            "2021-03-27 04:51:59.557294: I tensorflow/core/common_runtime/gpu/gpu_device.cc:1267]      0 \n",
            "2021-03-27 04:51:59.557319: I tensorflow/core/common_runtime/gpu/gpu_device.cc:1280] 0:   N \n",
            "2021-03-27 04:51:59.557854: I tensorflow/stream_executor/cuda/cuda_gpu_executor.cc:941] successful NUMA node read from SysFS had negative value (-1), but there must be at least one NUMA node, so returning NUMA node zero\n",
            "2021-03-27 04:51:59.558521: I tensorflow/stream_executor/cuda/cuda_gpu_executor.cc:941] successful NUMA node read from SysFS had negative value (-1), but there must be at least one NUMA node, so returning NUMA node zero\n",
            "2021-03-27 04:51:59.559135: I tensorflow/stream_executor/cuda/cuda_gpu_executor.cc:941] successful NUMA node read from SysFS had negative value (-1), but there must be at least one NUMA node, so returning NUMA node zero\n",
            "2021-03-27 04:51:59.559662: W tensorflow/core/common_runtime/gpu/gpu_bfc_allocator.cc:39] Overriding allow_growth setting because the TF_FORCE_GPU_ALLOW_GROWTH environment variable is set. Original config value was 0.\n",
            "2021-03-27 04:51:59.559721: I tensorflow/core/common_runtime/gpu/gpu_device.cc:1406] Created TensorFlow device (/job:localhost/replica:0/task:0/device:GPU:0 with 13994 MB memory) -> physical GPU (device: 0, name: Tesla T4, pci bus id: 0000:00:04.0, compute capability: 7.5)\n",
            "Running network: N/A% (0 of 160) |        | Elapsed Time: 0:00:00 ETA:  --:--:--2021-03-27 04:52:11.074755: I tensorflow/compiler/mlir/mlir_graph_optimization_pass.cc:116] None of the MLIR optimization passes are enabled (registered 2)\n",
            "2021-03-27 04:52:11.090732: I tensorflow/core/platform/profile_utils/cpu_utils.cc:112] CPU Frequency: 2199995000 Hz\n",
            "2021-03-27 04:52:11.847557: I tensorflow/stream_executor/platform/default/dso_loader.cc:49] Successfully opened dynamic library libcudnn.so.8\n",
            "2021-03-27 04:52:41.096803: I tensorflow/stream_executor/platform/default/dso_loader.cc:49] Successfully opened dynamic library libcublas.so.11\n",
            "2021-03-27 04:52:43.632079: I tensorflow/stream_executor/platform/default/dso_loader.cc:49] Successfully opened dynamic library libcublasLt.so.11\n",
            "Running network: 100% (160 of 160) |######| Elapsed Time: 0:00:48 Time:  0:00:48\n",
            "Parsing annotations: 100% (160 of 160) |##| Elapsed Time: 0:00:00 Time:  0:00:00\n",
            "119 instances of class 2 with average precision: 0.6565\n",
            "804 instances of class 1 with average precision: 0.7203\n",
            "Inference time for 160 images: 0.2916\n",
            "mAP using the weighted average of precisions among classes: 0.7121\n",
            "mAP: 0.6884\n",
            "/content\n"
          ],
          "name": "stdout"
        }
      ]
    },
    {
      "cell_type": "markdown",
      "metadata": {
        "id": "kmEYREdUVi1r"
      },
      "source": [
        "## Generate detections on test images - ANNOTATION FILES"
      ]
    },
    {
      "cell_type": "code",
      "metadata": {
        "id": "yumTI0GCLxen"
      },
      "source": [
        "# create directory with selected test images \n",
        "\n",
        "!mkdir /content/data/test_data_images/test_data_images/test\n",
        "!mv -t /content/data/test_data_images/test_data_images/test \\\n",
        "/content/data/test_data_images/test_data_images/images/000000091.jpg \\\n",
        "/content/data/test_data_images/test_data_images/images/000000097.jpg \\\n",
        "/content/data/test_data_images/test_data_images/images/000002576.jpg \\\n",
        "/content/data/test_data_images/test_data_images/images/000002412.jpg \\\n",
        "/content/data/test_data_images/test_data_images/images/000000076.jpg \\\n",
        "/content/data/test_data_images/test_data_images/images/000000441.jpg"
      ],
      "execution_count": null,
      "outputs": []
    },
    {
      "cell_type": "markdown",
      "metadata": {
        "id": "m3sruQGh3pBP"
      },
      "source": [
        "## Convert training model to inference model"
      ]
    },
    {
      "cell_type": "code",
      "metadata": {
        "id": "rBluTiYfDow8",
        "colab": {
          "base_uri": "https://localhost:8080/",
          "height": 36
        },
        "outputId": "7f1ff886-f896-4351-a038-b59e7d5b04a0"
      },
      "source": [
        "# print trained model path\n",
        "model_1_path"
      ],
      "execution_count": null,
      "outputs": [
        {
          "output_type": "execute_result",
          "data": {
            "application/vnd.google.colaboratory.intrinsic+json": {
              "type": "string"
            },
            "text/plain": [
              "'/content/run_1/snapshots/resnet50_csv_79.h5'"
            ]
          },
          "metadata": {
            "tags": []
          },
          "execution_count": 30
        }
      ]
    },
    {
      "cell_type": "code",
      "metadata": {
        "id": "dqiITSXNGfSB",
        "colab": {
          "base_uri": "https://localhost:8080/",
          "height": 36
        },
        "outputId": "ed4b8acd-556c-4f86-c48e-a34a25302e7e"
      },
      "source": [
        "os.getcwd()"
      ],
      "execution_count": null,
      "outputs": [
        {
          "output_type": "execute_result",
          "data": {
            "application/vnd.google.colaboratory.intrinsic+json": {
              "type": "string"
            },
            "text/plain": [
              "'/content'"
            ]
          },
          "metadata": {
            "tags": []
          },
          "execution_count": 31
        }
      ]
    },
    {
      "cell_type": "code",
      "metadata": {
        "id": "HPvlP8W2A_7M",
        "colab": {
          "base_uri": "https://localhost:8080/"
        },
        "outputId": "3c833110-1c6f-425c-89cf-4e7bed97730a"
      },
      "source": [
        "# convert trained model to inference model to be used for generating predictions\n",
        "!python /content/keras-retinanet/keras_retinanet/bin/convert_model.py '/content/run_1/snapshots/resnet50_csv_30.h5' '/content/run_1/snapshots/resnet50_csv_30_inference.h5'\n",
        "inference_model = '/content/run_1/snapshots/resnet50_csv_30_inference.h5'"
      ],
      "execution_count": null,
      "outputs": [
        {
          "output_type": "stream",
          "text": [
            "2021-03-27 04:53:27.174122: I tensorflow/stream_executor/platform/default/dso_loader.cc:49] Successfully opened dynamic library libcudart.so.11.0\n",
            "2021-03-27 04:53:28.729174: I tensorflow/compiler/jit/xla_cpu_device.cc:41] Not creating XLA devices, tf_xla_enable_xla_devices not set\n",
            "2021-03-27 04:53:28.730001: I tensorflow/stream_executor/platform/default/dso_loader.cc:49] Successfully opened dynamic library libcuda.so.1\n",
            "2021-03-27 04:53:28.764380: I tensorflow/stream_executor/cuda/cuda_gpu_executor.cc:941] successful NUMA node read from SysFS had negative value (-1), but there must be at least one NUMA node, so returning NUMA node zero\n",
            "2021-03-27 04:53:28.765002: I tensorflow/core/common_runtime/gpu/gpu_device.cc:1720] Found device 0 with properties: \n",
            "pciBusID: 0000:00:04.0 name: Tesla T4 computeCapability: 7.5\n",
            "coreClock: 1.59GHz coreCount: 40 deviceMemorySize: 14.75GiB deviceMemoryBandwidth: 298.08GiB/s\n",
            "2021-03-27 04:53:28.765048: I tensorflow/stream_executor/platform/default/dso_loader.cc:49] Successfully opened dynamic library libcudart.so.11.0\n",
            "2021-03-27 04:53:28.767888: I tensorflow/stream_executor/platform/default/dso_loader.cc:49] Successfully opened dynamic library libcublas.so.11\n",
            "2021-03-27 04:53:28.767961: I tensorflow/stream_executor/platform/default/dso_loader.cc:49] Successfully opened dynamic library libcublasLt.so.11\n",
            "2021-03-27 04:53:28.769758: I tensorflow/stream_executor/platform/default/dso_loader.cc:49] Successfully opened dynamic library libcufft.so.10\n",
            "2021-03-27 04:53:28.770090: I tensorflow/stream_executor/platform/default/dso_loader.cc:49] Successfully opened dynamic library libcurand.so.10\n",
            "2021-03-27 04:53:28.771932: I tensorflow/stream_executor/platform/default/dso_loader.cc:49] Successfully opened dynamic library libcusolver.so.10\n",
            "2021-03-27 04:53:28.772658: I tensorflow/stream_executor/platform/default/dso_loader.cc:49] Successfully opened dynamic library libcusparse.so.11\n",
            "2021-03-27 04:53:28.772834: I tensorflow/stream_executor/platform/default/dso_loader.cc:49] Successfully opened dynamic library libcudnn.so.8\n",
            "2021-03-27 04:53:28.772933: I tensorflow/stream_executor/cuda/cuda_gpu_executor.cc:941] successful NUMA node read from SysFS had negative value (-1), but there must be at least one NUMA node, so returning NUMA node zero\n",
            "2021-03-27 04:53:28.773501: I tensorflow/stream_executor/cuda/cuda_gpu_executor.cc:941] successful NUMA node read from SysFS had negative value (-1), but there must be at least one NUMA node, so returning NUMA node zero\n",
            "2021-03-27 04:53:28.774031: I tensorflow/core/common_runtime/gpu/gpu_device.cc:1862] Adding visible gpu devices: 0\n",
            "2021-03-27 04:53:29.030096: I tensorflow/compiler/jit/xla_gpu_device.cc:99] Not creating XLA devices, tf_xla_enable_xla_devices not set\n",
            "2021-03-27 04:53:29.030160: I tensorflow/core/common_runtime/gpu/gpu_device.cc:1261] Device interconnect StreamExecutor with strength 1 edge matrix:\n",
            "2021-03-27 04:53:29.030180: I tensorflow/core/common_runtime/gpu/gpu_device.cc:1267]      \n"
          ],
          "name": "stdout"
        }
      ]
    },
    {
      "cell_type": "code",
      "metadata": {
        "id": "_teYSHzIsICx",
        "colab": {
          "base_uri": "https://localhost:8080/"
        },
        "outputId": "9df5af50-fe0c-4e8e-cbca-c2ccf1eb5e70"
      },
      "source": [
        "# generate prediction files\n",
        "\n",
        "!python /content/ije_retinanet/image_inference_write.py \\\n",
        "-i '/content/data/test_data_images/test_data_images/test/' \\\n",
        "-t 0.6 \\\n",
        "-m {inference_model} \\\n",
        "-o  /content/data/ \\\n",
        "-l /content/images_subset/classes.csv"
      ],
      "execution_count": null,
      "outputs": [
        {
          "output_type": "stream",
          "text": [
            "2021-03-27 04:53:40.473128: I tensorflow/stream_executor/platform/default/dso_loader.cc:49] Successfully opened dynamic library libcudart.so.11.0\n",
            "2021-03-27 04:53:42.750471: I tensorflow/compiler/jit/xla_cpu_device.cc:41] Not creating XLA devices, tf_xla_enable_xla_devices not set\n",
            "2021-03-27 04:53:42.751271: I tensorflow/stream_executor/platform/default/dso_loader.cc:49] Successfully opened dynamic library libcuda.so.1\n",
            "2021-03-27 04:53:42.780027: I tensorflow/stream_executor/cuda/cuda_gpu_executor.cc:941] successful NUMA node read from SysFS had negative value (-1), but there must be at least one NUMA node, so returning NUMA node zero\n",
            "2021-03-27 04:53:42.780626: I tensorflow/core/common_runtime/gpu/gpu_device.cc:1720] Found device 0 with properties: \n",
            "pciBusID: 0000:00:04.0 name: Tesla T4 computeCapability: 7.5\n",
            "coreClock: 1.59GHz coreCount: 40 deviceMemorySize: 14.75GiB deviceMemoryBandwidth: 298.08GiB/s\n",
            "2021-03-27 04:53:42.780673: I tensorflow/stream_executor/platform/default/dso_loader.cc:49] Successfully opened dynamic library libcudart.so.11.0\n",
            "2021-03-27 04:53:42.786773: I tensorflow/stream_executor/platform/default/dso_loader.cc:49] Successfully opened dynamic library libcublas.so.11\n",
            "2021-03-27 04:53:42.786853: I tensorflow/stream_executor/platform/default/dso_loader.cc:49] Successfully opened dynamic library libcublasLt.so.11\n",
            "2021-03-27 04:53:42.788441: I tensorflow/stream_executor/platform/default/dso_loader.cc:49] Successfully opened dynamic library libcufft.so.10\n",
            "2021-03-27 04:53:42.788792: I tensorflow/stream_executor/platform/default/dso_loader.cc:49] Successfully opened dynamic library libcurand.so.10\n",
            "2021-03-27 04:53:42.796599: I tensorflow/stream_executor/platform/default/dso_loader.cc:49] Successfully opened dynamic library libcusolver.so.10\n",
            "2021-03-27 04:53:42.797224: I tensorflow/stream_executor/platform/default/dso_loader.cc:49] Successfully opened dynamic library libcusparse.so.11\n",
            "2021-03-27 04:53:42.797437: I tensorflow/stream_executor/platform/default/dso_loader.cc:49] Successfully opened dynamic library libcudnn.so.8\n",
            "2021-03-27 04:53:42.797562: I tensorflow/stream_executor/cuda/cuda_gpu_executor.cc:941] successful NUMA node read from SysFS had negative value (-1), but there must be at least one NUMA node, so returning NUMA node zero\n",
            "2021-03-27 04:53:42.798167: I tensorflow/stream_executor/cuda/cuda_gpu_executor.cc:941] successful NUMA node read from SysFS had negative value (-1), but there must be at least one NUMA node, so returning NUMA node zero\n",
            "2021-03-27 04:53:42.798741: I tensorflow/core/common_runtime/gpu/gpu_device.cc:1862] Adding visible gpu devices: 0\n",
            "2021-03-27 04:53:42.799159: I tensorflow/compiler/jit/xla_gpu_device.cc:99] Not creating XLA devices, tf_xla_enable_xla_devices not set\n",
            "2021-03-27 04:53:42.799288: I tensorflow/stream_executor/cuda/cuda_gpu_executor.cc:941] successful NUMA node read from SysFS had negative value (-1), but there must be at least one NUMA node, so returning NUMA node zero\n",
            "2021-03-27 04:53:42.799857: I tensorflow/core/common_runtime/gpu/gpu_device.cc:1720] Found device 0 with properties: \n",
            "pciBusID: 0000:00:04.0 name: Tesla T4 computeCapability: 7.5\n",
            "coreClock: 1.59GHz coreCount: 40 deviceMemorySize: 14.75GiB deviceMemoryBandwidth: 298.08GiB/s\n",
            "2021-03-27 04:53:42.799901: I tensorflow/stream_executor/platform/default/dso_loader.cc:49] Successfully opened dynamic library libcudart.so.11.0\n",
            "2021-03-27 04:53:42.799939: I tensorflow/stream_executor/platform/default/dso_loader.cc:49] Successfully opened dynamic library libcublas.so.11\n",
            "2021-03-27 04:53:42.799967: I tensorflow/stream_executor/platform/default/dso_loader.cc:49] Successfully opened dynamic library libcublasLt.so.11\n",
            "2021-03-27 04:53:42.799991: I tensorflow/stream_executor/platform/default/dso_loader.cc:49] Successfully opened dynamic library libcufft.so.10\n",
            "2021-03-27 04:53:42.800014: I tensorflow/stream_executor/platform/default/dso_loader.cc:49] Successfully opened dynamic library libcurand.so.10\n",
            "2021-03-27 04:53:42.800038: I tensorflow/stream_executor/platform/default/dso_loader.cc:49] Successfully opened dynamic library libcusolver.so.10\n",
            "2021-03-27 04:53:42.800061: I tensorflow/stream_executor/platform/default/dso_loader.cc:49] Successfully opened dynamic library libcusparse.so.11\n",
            "2021-03-27 04:53:42.800086: I tensorflow/stream_executor/platform/default/dso_loader.cc:49] Successfully opened dynamic library libcudnn.so.8\n",
            "2021-03-27 04:53:42.800168: I tensorflow/stream_executor/cuda/cuda_gpu_executor.cc:941] successful NUMA node read from SysFS had negative value (-1), but there must be at least one NUMA node, so returning NUMA node zero\n",
            "2021-03-27 04:53:42.800779: I tensorflow/stream_executor/cuda/cuda_gpu_executor.cc:941] successful NUMA node read from SysFS had negative value (-1), but there must be at least one NUMA node, so returning NUMA node zero\n",
            "2021-03-27 04:53:42.801360: I tensorflow/core/common_runtime/gpu/gpu_device.cc:1862] Adding visible gpu devices: 0\n",
            "2021-03-27 04:53:42.801433: I tensorflow/stream_executor/platform/default/dso_loader.cc:49] Successfully opened dynamic library libcudart.so.11.0\n",
            "2021-03-27 04:53:43.325383: I tensorflow/core/common_runtime/gpu/gpu_device.cc:1261] Device interconnect StreamExecutor with strength 1 edge matrix:\n",
            "2021-03-27 04:53:43.325438: I tensorflow/core/common_runtime/gpu/gpu_device.cc:1267]      0 \n",
            "2021-03-27 04:53:43.325461: I tensorflow/core/common_runtime/gpu/gpu_device.cc:1280] 0:   N \n",
            "2021-03-27 04:53:43.325689: I tensorflow/stream_executor/cuda/cuda_gpu_executor.cc:941] successful NUMA node read from SysFS had negative value (-1), but there must be at least one NUMA node, so returning NUMA node zero\n",
            "2021-03-27 04:53:43.326424: I tensorflow/stream_executor/cuda/cuda_gpu_executor.cc:941] successful NUMA node read from SysFS had negative value (-1), but there must be at least one NUMA node, so returning NUMA node zero\n",
            "2021-03-27 04:53:43.327205: I tensorflow/stream_executor/cuda/cuda_gpu_executor.cc:941] successful NUMA node read from SysFS had negative value (-1), but there must be at least one NUMA node, so returning NUMA node zero\n",
            "2021-03-27 04:53:43.327798: W tensorflow/core/common_runtime/gpu/gpu_bfc_allocator.cc:39] Overriding allow_growth setting because the TF_FORCE_GPU_ALLOW_GROWTH environment variable is set. Original config value was 0.\n",
            "2021-03-27 04:53:43.327862: I tensorflow/core/common_runtime/gpu/gpu_device.cc:1406] Created TensorFlow device (/job:localhost/replica:0/task:0/device:GPU:0 with 13994 MB memory) -> physical GPU (device: 0, name: Tesla T4, pci bus id: 0000:00:04.0, compute capability: 7.5)\n",
            "WARNING:tensorflow:No training configuration found in the save file, so the model was *not* compiled. Compile it manually.\n",
            "[INFO] predicting image 1 of 6\n",
            "2021-03-27 04:53:47.431831: I tensorflow/compiler/mlir/mlir_graph_optimization_pass.cc:116] None of the MLIR optimization passes are enabled (registered 2)\n",
            "2021-03-27 04:53:47.446555: I tensorflow/core/platform/profile_utils/cpu_utils.cc:112] CPU Frequency: 2199995000 Hz\n",
            "2021-03-27 04:53:48.119955: I tensorflow/stream_executor/platform/default/dso_loader.cc:49] Successfully opened dynamic library libcudnn.so.8\n",
            "2021-03-27 04:53:50.069632: I tensorflow/stream_executor/platform/default/dso_loader.cc:49] Successfully opened dynamic library libcublas.so.11\n",
            "2021-03-27 04:53:50.557875: I tensorflow/stream_executor/platform/default/dso_loader.cc:49] Successfully opened dynamic library libcublasLt.so.11\n",
            "processing time:  5.856038331985474\n",
            "[INFO] predicting image 2 of 6\n",
            "processing time:  0.0697011947631836\n",
            "[INFO] predicting image 3 of 6\n",
            "processing time:  0.07034063339233398\n",
            "[INFO] predicting image 4 of 6\n",
            "processing time:  0.07143640518188477\n",
            "[INFO] predicting image 5 of 6\n",
            "processing time:  0.06806540489196777\n",
            "[INFO] predicting image 6 of 6\n",
            "processing time:  0.06994199752807617\n",
            "[FINAL] Predictions completed!\n"
          ],
          "name": "stdout"
        }
      ]
    },
    {
      "cell_type": "code",
      "metadata": {
        "id": "N-kI-MqqHyyb"
      },
      "source": [
        "# combine all csv files into one\n",
        "import glob\n",
        "fout=open(\"/content/data/output/out.csv\",\"a\")\n",
        "fout.write(\"path,confidence,ymin,xmin,ymax,xmax,class\\n\") # create header\n",
        "for fi in glob.glob(\"/content/data/*.csv\"):\n",
        "  f = open(fi)\n",
        "  for line in f:\n",
        "    fout.write(line)\n",
        "fout.close()"
      ],
      "execution_count": null,
      "outputs": []
    },
    {
      "cell_type": "markdown",
      "metadata": {
        "id": "zVIpeKcsVXas"
      },
      "source": [
        "## Generate detections on test images - IMAGES"
      ]
    },
    {
      "cell_type": "code",
      "metadata": {
        "id": "I4JizGIVLBqC",
        "colab": {
          "base_uri": "https://localhost:8080/",
          "height": 36
        },
        "outputId": "b43a7c01-d81d-4c3d-89bd-abe9db1c884c"
      },
      "source": [
        "os.getcwd()"
      ],
      "execution_count": null,
      "outputs": [
        {
          "output_type": "execute_result",
          "data": {
            "application/vnd.google.colaboratory.intrinsic+json": {
              "type": "string"
            },
            "text/plain": [
              "'/content'"
            ]
          },
          "metadata": {
            "tags": []
          },
          "execution_count": 38
        }
      ]
    },
    {
      "cell_type": "code",
      "metadata": {
        "id": "69d-negJSEBe",
        "colab": {
          "base_uri": "https://localhost:8080/"
        },
        "outputId": "54be0642-e01d-45f6-df2b-27fb5ab86264"
      },
      "source": [
        "# create output directory where you want to save images with bounding boxes\n",
        "!mkdir /content/data/output\n",
        "\n",
        "# generate detections on images\n",
        "!python /content/ije_retinanet/image_inference_print.py \\\n",
        "-i /content/data/test_data_images/test_data_images/test/ \\\n",
        "-t 0.6 \\\n",
        "-m  {inference_model} \\\n",
        "-o /content/data/output"
      ],
      "execution_count": null,
      "outputs": [
        {
          "output_type": "stream",
          "text": [
            "mkdir: cannot create directory ‘/content/data/output’: File exists\n",
            "2021-03-27 05:04:41.472737: I tensorflow/stream_executor/platform/default/dso_loader.cc:49] Successfully opened dynamic library libcudart.so.11.0\n",
            "2021-03-27 05:04:43.564585: I tensorflow/compiler/jit/xla_cpu_device.cc:41] Not creating XLA devices, tf_xla_enable_xla_devices not set\n",
            "2021-03-27 05:04:43.565462: I tensorflow/stream_executor/platform/default/dso_loader.cc:49] Successfully opened dynamic library libcuda.so.1\n",
            "2021-03-27 05:04:43.598388: I tensorflow/stream_executor/cuda/cuda_gpu_executor.cc:941] successful NUMA node read from SysFS had negative value (-1), but there must be at least one NUMA node, so returning NUMA node zero\n",
            "2021-03-27 05:04:43.599015: I tensorflow/core/common_runtime/gpu/gpu_device.cc:1720] Found device 0 with properties: \n",
            "pciBusID: 0000:00:04.0 name: Tesla T4 computeCapability: 7.5\n",
            "coreClock: 1.59GHz coreCount: 40 deviceMemorySize: 14.75GiB deviceMemoryBandwidth: 298.08GiB/s\n",
            "2021-03-27 05:04:43.599065: I tensorflow/stream_executor/platform/default/dso_loader.cc:49] Successfully opened dynamic library libcudart.so.11.0\n",
            "2021-03-27 05:04:43.603455: I tensorflow/stream_executor/platform/default/dso_loader.cc:49] Successfully opened dynamic library libcublas.so.11\n",
            "2021-03-27 05:04:43.603531: I tensorflow/stream_executor/platform/default/dso_loader.cc:49] Successfully opened dynamic library libcublasLt.so.11\n",
            "2021-03-27 05:04:43.605401: I tensorflow/stream_executor/platform/default/dso_loader.cc:49] Successfully opened dynamic library libcufft.so.10\n",
            "2021-03-27 05:04:43.605763: I tensorflow/stream_executor/platform/default/dso_loader.cc:49] Successfully opened dynamic library libcurand.so.10\n",
            "2021-03-27 05:04:43.607899: I tensorflow/stream_executor/platform/default/dso_loader.cc:49] Successfully opened dynamic library libcusolver.so.10\n",
            "2021-03-27 05:04:43.608530: I tensorflow/stream_executor/platform/default/dso_loader.cc:49] Successfully opened dynamic library libcusparse.so.11\n",
            "2021-03-27 05:04:43.608746: I tensorflow/stream_executor/platform/default/dso_loader.cc:49] Successfully opened dynamic library libcudnn.so.8\n",
            "2021-03-27 05:04:43.608844: I tensorflow/stream_executor/cuda/cuda_gpu_executor.cc:941] successful NUMA node read from SysFS had negative value (-1), but there must be at least one NUMA node, so returning NUMA node zero\n",
            "2021-03-27 05:04:43.609434: I tensorflow/stream_executor/cuda/cuda_gpu_executor.cc:941] successful NUMA node read from SysFS had negative value (-1), but there must be at least one NUMA node, so returning NUMA node zero\n",
            "2021-03-27 05:04:43.609963: I tensorflow/core/common_runtime/gpu/gpu_device.cc:1862] Adding visible gpu devices: 0\n",
            "2021-03-27 05:04:43.610418: I tensorflow/compiler/jit/xla_gpu_device.cc:99] Not creating XLA devices, tf_xla_enable_xla_devices not set\n",
            "2021-03-27 05:04:43.610525: I tensorflow/stream_executor/cuda/cuda_gpu_executor.cc:941] successful NUMA node read from SysFS had negative value (-1), but there must be at least one NUMA node, so returning NUMA node zero\n",
            "2021-03-27 05:04:43.611076: I tensorflow/core/common_runtime/gpu/gpu_device.cc:1720] Found device 0 with properties: \n",
            "pciBusID: 0000:00:04.0 name: Tesla T4 computeCapability: 7.5\n",
            "coreClock: 1.59GHz coreCount: 40 deviceMemorySize: 14.75GiB deviceMemoryBandwidth: 298.08GiB/s\n",
            "2021-03-27 05:04:43.611115: I tensorflow/stream_executor/platform/default/dso_loader.cc:49] Successfully opened dynamic library libcudart.so.11.0\n",
            "2021-03-27 05:04:43.611149: I tensorflow/stream_executor/platform/default/dso_loader.cc:49] Successfully opened dynamic library libcublas.so.11\n",
            "2021-03-27 05:04:43.611175: I tensorflow/stream_executor/platform/default/dso_loader.cc:49] Successfully opened dynamic library libcublasLt.so.11\n",
            "2021-03-27 05:04:43.611197: I tensorflow/stream_executor/platform/default/dso_loader.cc:49] Successfully opened dynamic library libcufft.so.10\n",
            "2021-03-27 05:04:43.611217: I tensorflow/stream_executor/platform/default/dso_loader.cc:49] Successfully opened dynamic library libcurand.so.10\n",
            "2021-03-27 05:04:43.611237: I tensorflow/stream_executor/platform/default/dso_loader.cc:49] Successfully opened dynamic library libcusolver.so.10\n",
            "2021-03-27 05:04:43.611256: I tensorflow/stream_executor/platform/default/dso_loader.cc:49] Successfully opened dynamic library libcusparse.so.11\n",
            "2021-03-27 05:04:43.611277: I tensorflow/stream_executor/platform/default/dso_loader.cc:49] Successfully opened dynamic library libcudnn.so.8\n",
            "2021-03-27 05:04:43.611348: I tensorflow/stream_executor/cuda/cuda_gpu_executor.cc:941] successful NUMA node read from SysFS had negative value (-1), but there must be at least one NUMA node, so returning NUMA node zero\n",
            "2021-03-27 05:04:43.611931: I tensorflow/stream_executor/cuda/cuda_gpu_executor.cc:941] successful NUMA node read from SysFS had negative value (-1), but there must be at least one NUMA node, so returning NUMA node zero\n",
            "2021-03-27 05:04:43.612422: I tensorflow/core/common_runtime/gpu/gpu_device.cc:1862] Adding visible gpu devices: 0\n",
            "2021-03-27 05:04:43.612475: I tensorflow/stream_executor/platform/default/dso_loader.cc:49] Successfully opened dynamic library libcudart.so.11.0\n",
            "2021-03-27 05:04:44.142090: I tensorflow/core/common_runtime/gpu/gpu_device.cc:1261] Device interconnect StreamExecutor with strength 1 edge matrix:\n",
            "2021-03-27 05:04:44.142152: I tensorflow/core/common_runtime/gpu/gpu_device.cc:1267]      0 \n",
            "2021-03-27 05:04:44.142173: I tensorflow/core/common_runtime/gpu/gpu_device.cc:1280] 0:   N \n",
            "2021-03-27 05:04:44.142384: I tensorflow/stream_executor/cuda/cuda_gpu_executor.cc:941] successful NUMA node read from SysFS had negative value (-1), but there must be at least one NUMA node, so returning NUMA node zero\n",
            "2021-03-27 05:04:44.143030: I tensorflow/stream_executor/cuda/cuda_gpu_executor.cc:941] successful NUMA node read from SysFS had negative value (-1), but there must be at least one NUMA node, so returning NUMA node zero\n",
            "2021-03-27 05:04:44.143604: I tensorflow/stream_executor/cuda/cuda_gpu_executor.cc:941] successful NUMA node read from SysFS had negative value (-1), but there must be at least one NUMA node, so returning NUMA node zero\n",
            "2021-03-27 05:04:44.144099: W tensorflow/core/common_runtime/gpu/gpu_bfc_allocator.cc:39] Overriding allow_growth setting because the TF_FORCE_GPU_ALLOW_GROWTH environment variable is set. Original config value was 0.\n",
            "2021-03-27 05:04:44.144148: I tensorflow/core/common_runtime/gpu/gpu_device.cc:1406] Created TensorFlow device (/job:localhost/replica:0/task:0/device:GPU:0 with 13994 MB memory) -> physical GPU (device: 0, name: Tesla T4, pci bus id: 0000:00:04.0, compute capability: 7.5)\n",
            "WARNING:tensorflow:No training configuration found in the save file, so the model was *not* compiled. Compile it manually.\n",
            "[INFO] saving image 1 of 6\n",
            "2021-03-27 05:04:48.158450: I tensorflow/compiler/mlir/mlir_graph_optimization_pass.cc:116] None of the MLIR optimization passes are enabled (registered 2)\n",
            "2021-03-27 05:04:48.173481: I tensorflow/core/platform/profile_utils/cpu_utils.cc:112] CPU Frequency: 2199995000 Hz\n",
            "2021-03-27 05:04:48.848906: I tensorflow/stream_executor/platform/default/dso_loader.cc:49] Successfully opened dynamic library libcudnn.so.8\n",
            "2021-03-27 05:04:50.832601: I tensorflow/stream_executor/platform/default/dso_loader.cc:49] Successfully opened dynamic library libcublas.so.11\n",
            "2021-03-27 05:04:51.315221: I tensorflow/stream_executor/platform/default/dso_loader.cc:49] Successfully opened dynamic library libcublasLt.so.11\n",
            "processing time:  5.875222444534302\n",
            "[INFO] saving image 2 of 6\n",
            "processing time:  0.07116150856018066\n",
            "[INFO] saving image 3 of 6\n",
            "processing time:  0.06841921806335449\n",
            "[INFO] saving image 4 of 6\n",
            "processing time:  0.07425498962402344\n",
            "[INFO] saving image 5 of 6\n",
            "processing time:  0.0673363208770752\n",
            "[INFO] saving image 6 of 6\n",
            "processing time:  0.0723886489868164\n",
            "/content/ije_retinanet/image_inference_print.py:77: RuntimeWarning: More than 20 figures have been opened. Figures created through the pyplot interface (`matplotlib.pyplot.figure`) are retained until explicitly closed and may consume too much memory. (To control this warning, see the rcParam `figure.max_open_warning`).\n",
            "  plt.figure(figsize=(6, 6))\n",
            "[FINAL] task completed!\n"
          ],
          "name": "stdout"
        }
      ]
    },
    {
      "cell_type": "code",
      "metadata": {
        "id": "24bku2eMbvJt",
        "colab": {
          "base_uri": "https://localhost:8080/",
          "height": 17
        },
        "outputId": "5419b328-f07f-4203-8f89-fdefbe81a8a0"
      },
      "source": [
        "from google.colab import files\n",
        "\n",
        "# download output images\n",
        "for p in glob.glob('/content/data/output/*.jpg'):\n",
        "  files.download(p)\n",
        "  \n",
        "# download raw images\n",
        "for p in glob.glob('/content/data/test_data_images/test_data_images/test/*.jpg'):\n",
        "  files.download(p)"
      ],
      "execution_count": null,
      "outputs": [
        {
          "output_type": "display_data",
          "data": {
            "application/javascript": [
              "\n",
              "    async function download(id, filename, size) {\n",
              "      if (!google.colab.kernel.accessAllowed) {\n",
              "        return;\n",
              "      }\n",
              "      const div = document.createElement('div');\n",
              "      const label = document.createElement('label');\n",
              "      label.textContent = `Downloading \"${filename}\": `;\n",
              "      div.appendChild(label);\n",
              "      const progress = document.createElement('progress');\n",
              "      progress.max = size;\n",
              "      div.appendChild(progress);\n",
              "      document.body.appendChild(div);\n",
              "\n",
              "      const buffers = [];\n",
              "      let downloaded = 0;\n",
              "\n",
              "      const channel = await google.colab.kernel.comms.open(id);\n",
              "      // Send a message to notify the kernel that we're ready.\n",
              "      channel.send({})\n",
              "\n",
              "      for await (const message of channel.messages) {\n",
              "        // Send a message to notify the kernel that we're ready.\n",
              "        channel.send({})\n",
              "        if (message.buffers) {\n",
              "          for (const buffer of message.buffers) {\n",
              "            buffers.push(buffer);\n",
              "            downloaded += buffer.byteLength;\n",
              "            progress.value = downloaded;\n",
              "          }\n",
              "        }\n",
              "      }\n",
              "      const blob = new Blob(buffers, {type: 'application/binary'});\n",
              "      const a = document.createElement('a');\n",
              "      a.href = window.URL.createObjectURL(blob);\n",
              "      a.download = filename;\n",
              "      div.appendChild(a);\n",
              "      a.click();\n",
              "      div.remove();\n",
              "    }\n",
              "  "
            ],
            "text/plain": [
              "<IPython.core.display.Javascript object>"
            ]
          },
          "metadata": {
            "tags": []
          }
        },
        {
          "output_type": "display_data",
          "data": {
            "application/javascript": [
              "download(\"download_31eec0b6-9363-4c7e-b03e-6b728ad08e29\", \"bb_000000097.jpg\", 78418)"
            ],
            "text/plain": [
              "<IPython.core.display.Javascript object>"
            ]
          },
          "metadata": {
            "tags": []
          }
        },
        {
          "output_type": "display_data",
          "data": {
            "application/javascript": [
              "\n",
              "    async function download(id, filename, size) {\n",
              "      if (!google.colab.kernel.accessAllowed) {\n",
              "        return;\n",
              "      }\n",
              "      const div = document.createElement('div');\n",
              "      const label = document.createElement('label');\n",
              "      label.textContent = `Downloading \"${filename}\": `;\n",
              "      div.appendChild(label);\n",
              "      const progress = document.createElement('progress');\n",
              "      progress.max = size;\n",
              "      div.appendChild(progress);\n",
              "      document.body.appendChild(div);\n",
              "\n",
              "      const buffers = [];\n",
              "      let downloaded = 0;\n",
              "\n",
              "      const channel = await google.colab.kernel.comms.open(id);\n",
              "      // Send a message to notify the kernel that we're ready.\n",
              "      channel.send({})\n",
              "\n",
              "      for await (const message of channel.messages) {\n",
              "        // Send a message to notify the kernel that we're ready.\n",
              "        channel.send({})\n",
              "        if (message.buffers) {\n",
              "          for (const buffer of message.buffers) {\n",
              "            buffers.push(buffer);\n",
              "            downloaded += buffer.byteLength;\n",
              "            progress.value = downloaded;\n",
              "          }\n",
              "        }\n",
              "      }\n",
              "      const blob = new Blob(buffers, {type: 'application/binary'});\n",
              "      const a = document.createElement('a');\n",
              "      a.href = window.URL.createObjectURL(blob);\n",
              "      a.download = filename;\n",
              "      div.appendChild(a);\n",
              "      a.click();\n",
              "      div.remove();\n",
              "    }\n",
              "  "
            ],
            "text/plain": [
              "<IPython.core.display.Javascript object>"
            ]
          },
          "metadata": {
            "tags": []
          }
        },
        {
          "output_type": "display_data",
          "data": {
            "application/javascript": [
              "download(\"download_8f949a54-c3c8-45c8-ab57-561f693bc016\", \"bb_000000441.jpg\", 78054)"
            ],
            "text/plain": [
              "<IPython.core.display.Javascript object>"
            ]
          },
          "metadata": {
            "tags": []
          }
        },
        {
          "output_type": "display_data",
          "data": {
            "application/javascript": [
              "\n",
              "    async function download(id, filename, size) {\n",
              "      if (!google.colab.kernel.accessAllowed) {\n",
              "        return;\n",
              "      }\n",
              "      const div = document.createElement('div');\n",
              "      const label = document.createElement('label');\n",
              "      label.textContent = `Downloading \"${filename}\": `;\n",
              "      div.appendChild(label);\n",
              "      const progress = document.createElement('progress');\n",
              "      progress.max = size;\n",
              "      div.appendChild(progress);\n",
              "      document.body.appendChild(div);\n",
              "\n",
              "      const buffers = [];\n",
              "      let downloaded = 0;\n",
              "\n",
              "      const channel = await google.colab.kernel.comms.open(id);\n",
              "      // Send a message to notify the kernel that we're ready.\n",
              "      channel.send({})\n",
              "\n",
              "      for await (const message of channel.messages) {\n",
              "        // Send a message to notify the kernel that we're ready.\n",
              "        channel.send({})\n",
              "        if (message.buffers) {\n",
              "          for (const buffer of message.buffers) {\n",
              "            buffers.push(buffer);\n",
              "            downloaded += buffer.byteLength;\n",
              "            progress.value = downloaded;\n",
              "          }\n",
              "        }\n",
              "      }\n",
              "      const blob = new Blob(buffers, {type: 'application/binary'});\n",
              "      const a = document.createElement('a');\n",
              "      a.href = window.URL.createObjectURL(blob);\n",
              "      a.download = filename;\n",
              "      div.appendChild(a);\n",
              "      a.click();\n",
              "      div.remove();\n",
              "    }\n",
              "  "
            ],
            "text/plain": [
              "<IPython.core.display.Javascript object>"
            ]
          },
          "metadata": {
            "tags": []
          }
        },
        {
          "output_type": "display_data",
          "data": {
            "application/javascript": [
              "download(\"download_ee8bb2fd-21f0-440b-8e62-6abcb1fe8bc8\", \"bb_000000076.jpg\", 79965)"
            ],
            "text/plain": [
              "<IPython.core.display.Javascript object>"
            ]
          },
          "metadata": {
            "tags": []
          }
        },
        {
          "output_type": "display_data",
          "data": {
            "application/javascript": [
              "\n",
              "    async function download(id, filename, size) {\n",
              "      if (!google.colab.kernel.accessAllowed) {\n",
              "        return;\n",
              "      }\n",
              "      const div = document.createElement('div');\n",
              "      const label = document.createElement('label');\n",
              "      label.textContent = `Downloading \"${filename}\": `;\n",
              "      div.appendChild(label);\n",
              "      const progress = document.createElement('progress');\n",
              "      progress.max = size;\n",
              "      div.appendChild(progress);\n",
              "      document.body.appendChild(div);\n",
              "\n",
              "      const buffers = [];\n",
              "      let downloaded = 0;\n",
              "\n",
              "      const channel = await google.colab.kernel.comms.open(id);\n",
              "      // Send a message to notify the kernel that we're ready.\n",
              "      channel.send({})\n",
              "\n",
              "      for await (const message of channel.messages) {\n",
              "        // Send a message to notify the kernel that we're ready.\n",
              "        channel.send({})\n",
              "        if (message.buffers) {\n",
              "          for (const buffer of message.buffers) {\n",
              "            buffers.push(buffer);\n",
              "            downloaded += buffer.byteLength;\n",
              "            progress.value = downloaded;\n",
              "          }\n",
              "        }\n",
              "      }\n",
              "      const blob = new Blob(buffers, {type: 'application/binary'});\n",
              "      const a = document.createElement('a');\n",
              "      a.href = window.URL.createObjectURL(blob);\n",
              "      a.download = filename;\n",
              "      div.appendChild(a);\n",
              "      a.click();\n",
              "      div.remove();\n",
              "    }\n",
              "  "
            ],
            "text/plain": [
              "<IPython.core.display.Javascript object>"
            ]
          },
          "metadata": {
            "tags": []
          }
        },
        {
          "output_type": "display_data",
          "data": {
            "application/javascript": [
              "download(\"download_afc283eb-2b41-42fa-821b-121723fa87af\", \"bb_000002576.jpg\", 78793)"
            ],
            "text/plain": [
              "<IPython.core.display.Javascript object>"
            ]
          },
          "metadata": {
            "tags": []
          }
        },
        {
          "output_type": "display_data",
          "data": {
            "application/javascript": [
              "\n",
              "    async function download(id, filename, size) {\n",
              "      if (!google.colab.kernel.accessAllowed) {\n",
              "        return;\n",
              "      }\n",
              "      const div = document.createElement('div');\n",
              "      const label = document.createElement('label');\n",
              "      label.textContent = `Downloading \"${filename}\": `;\n",
              "      div.appendChild(label);\n",
              "      const progress = document.createElement('progress');\n",
              "      progress.max = size;\n",
              "      div.appendChild(progress);\n",
              "      document.body.appendChild(div);\n",
              "\n",
              "      const buffers = [];\n",
              "      let downloaded = 0;\n",
              "\n",
              "      const channel = await google.colab.kernel.comms.open(id);\n",
              "      // Send a message to notify the kernel that we're ready.\n",
              "      channel.send({})\n",
              "\n",
              "      for await (const message of channel.messages) {\n",
              "        // Send a message to notify the kernel that we're ready.\n",
              "        channel.send({})\n",
              "        if (message.buffers) {\n",
              "          for (const buffer of message.buffers) {\n",
              "            buffers.push(buffer);\n",
              "            downloaded += buffer.byteLength;\n",
              "            progress.value = downloaded;\n",
              "          }\n",
              "        }\n",
              "      }\n",
              "      const blob = new Blob(buffers, {type: 'application/binary'});\n",
              "      const a = document.createElement('a');\n",
              "      a.href = window.URL.createObjectURL(blob);\n",
              "      a.download = filename;\n",
              "      div.appendChild(a);\n",
              "      a.click();\n",
              "      div.remove();\n",
              "    }\n",
              "  "
            ],
            "text/plain": [
              "<IPython.core.display.Javascript object>"
            ]
          },
          "metadata": {
            "tags": []
          }
        },
        {
          "output_type": "display_data",
          "data": {
            "application/javascript": [
              "download(\"download_b4df69b4-1005-46c4-926b-8bfa989fad0c\", \"bb_000000091.jpg\", 88658)"
            ],
            "text/plain": [
              "<IPython.core.display.Javascript object>"
            ]
          },
          "metadata": {
            "tags": []
          }
        },
        {
          "output_type": "display_data",
          "data": {
            "application/javascript": [
              "\n",
              "    async function download(id, filename, size) {\n",
              "      if (!google.colab.kernel.accessAllowed) {\n",
              "        return;\n",
              "      }\n",
              "      const div = document.createElement('div');\n",
              "      const label = document.createElement('label');\n",
              "      label.textContent = `Downloading \"${filename}\": `;\n",
              "      div.appendChild(label);\n",
              "      const progress = document.createElement('progress');\n",
              "      progress.max = size;\n",
              "      div.appendChild(progress);\n",
              "      document.body.appendChild(div);\n",
              "\n",
              "      const buffers = [];\n",
              "      let downloaded = 0;\n",
              "\n",
              "      const channel = await google.colab.kernel.comms.open(id);\n",
              "      // Send a message to notify the kernel that we're ready.\n",
              "      channel.send({})\n",
              "\n",
              "      for await (const message of channel.messages) {\n",
              "        // Send a message to notify the kernel that we're ready.\n",
              "        channel.send({})\n",
              "        if (message.buffers) {\n",
              "          for (const buffer of message.buffers) {\n",
              "            buffers.push(buffer);\n",
              "            downloaded += buffer.byteLength;\n",
              "            progress.value = downloaded;\n",
              "          }\n",
              "        }\n",
              "      }\n",
              "      const blob = new Blob(buffers, {type: 'application/binary'});\n",
              "      const a = document.createElement('a');\n",
              "      a.href = window.URL.createObjectURL(blob);\n",
              "      a.download = filename;\n",
              "      div.appendChild(a);\n",
              "      a.click();\n",
              "      div.remove();\n",
              "    }\n",
              "  "
            ],
            "text/plain": [
              "<IPython.core.display.Javascript object>"
            ]
          },
          "metadata": {
            "tags": []
          }
        },
        {
          "output_type": "display_data",
          "data": {
            "application/javascript": [
              "download(\"download_f05a173c-2890-4c57-bf0c-ae43bfdb0501\", \"bb_000002412.jpg\", 83777)"
            ],
            "text/plain": [
              "<IPython.core.display.Javascript object>"
            ]
          },
          "metadata": {
            "tags": []
          }
        },
        {
          "output_type": "display_data",
          "data": {
            "application/javascript": [
              "\n",
              "    async function download(id, filename, size) {\n",
              "      if (!google.colab.kernel.accessAllowed) {\n",
              "        return;\n",
              "      }\n",
              "      const div = document.createElement('div');\n",
              "      const label = document.createElement('label');\n",
              "      label.textContent = `Downloading \"${filename}\": `;\n",
              "      div.appendChild(label);\n",
              "      const progress = document.createElement('progress');\n",
              "      progress.max = size;\n",
              "      div.appendChild(progress);\n",
              "      document.body.appendChild(div);\n",
              "\n",
              "      const buffers = [];\n",
              "      let downloaded = 0;\n",
              "\n",
              "      const channel = await google.colab.kernel.comms.open(id);\n",
              "      // Send a message to notify the kernel that we're ready.\n",
              "      channel.send({})\n",
              "\n",
              "      for await (const message of channel.messages) {\n",
              "        // Send a message to notify the kernel that we're ready.\n",
              "        channel.send({})\n",
              "        if (message.buffers) {\n",
              "          for (const buffer of message.buffers) {\n",
              "            buffers.push(buffer);\n",
              "            downloaded += buffer.byteLength;\n",
              "            progress.value = downloaded;\n",
              "          }\n",
              "        }\n",
              "      }\n",
              "      const blob = new Blob(buffers, {type: 'application/binary'});\n",
              "      const a = document.createElement('a');\n",
              "      a.href = window.URL.createObjectURL(blob);\n",
              "      a.download = filename;\n",
              "      div.appendChild(a);\n",
              "      a.click();\n",
              "      div.remove();\n",
              "    }\n",
              "  "
            ],
            "text/plain": [
              "<IPython.core.display.Javascript object>"
            ]
          },
          "metadata": {
            "tags": []
          }
        },
        {
          "output_type": "display_data",
          "data": {
            "application/javascript": [
              "download(\"download_06bd3fe9-2c66-4af3-b688-b7794026166b\", \"000000091.jpg\", 17847)"
            ],
            "text/plain": [
              "<IPython.core.display.Javascript object>"
            ]
          },
          "metadata": {
            "tags": []
          }
        },
        {
          "output_type": "display_data",
          "data": {
            "application/javascript": [
              "\n",
              "    async function download(id, filename, size) {\n",
              "      if (!google.colab.kernel.accessAllowed) {\n",
              "        return;\n",
              "      }\n",
              "      const div = document.createElement('div');\n",
              "      const label = document.createElement('label');\n",
              "      label.textContent = `Downloading \"${filename}\": `;\n",
              "      div.appendChild(label);\n",
              "      const progress = document.createElement('progress');\n",
              "      progress.max = size;\n",
              "      div.appendChild(progress);\n",
              "      document.body.appendChild(div);\n",
              "\n",
              "      const buffers = [];\n",
              "      let downloaded = 0;\n",
              "\n",
              "      const channel = await google.colab.kernel.comms.open(id);\n",
              "      // Send a message to notify the kernel that we're ready.\n",
              "      channel.send({})\n",
              "\n",
              "      for await (const message of channel.messages) {\n",
              "        // Send a message to notify the kernel that we're ready.\n",
              "        channel.send({})\n",
              "        if (message.buffers) {\n",
              "          for (const buffer of message.buffers) {\n",
              "            buffers.push(buffer);\n",
              "            downloaded += buffer.byteLength;\n",
              "            progress.value = downloaded;\n",
              "          }\n",
              "        }\n",
              "      }\n",
              "      const blob = new Blob(buffers, {type: 'application/binary'});\n",
              "      const a = document.createElement('a');\n",
              "      a.href = window.URL.createObjectURL(blob);\n",
              "      a.download = filename;\n",
              "      div.appendChild(a);\n",
              "      a.click();\n",
              "      div.remove();\n",
              "    }\n",
              "  "
            ],
            "text/plain": [
              "<IPython.core.display.Javascript object>"
            ]
          },
          "metadata": {
            "tags": []
          }
        },
        {
          "output_type": "display_data",
          "data": {
            "application/javascript": [
              "download(\"download_afbf1c55-2542-4366-830e-dc602b157e47\", \"000000441.jpg\", 15638)"
            ],
            "text/plain": [
              "<IPython.core.display.Javascript object>"
            ]
          },
          "metadata": {
            "tags": []
          }
        },
        {
          "output_type": "display_data",
          "data": {
            "application/javascript": [
              "\n",
              "    async function download(id, filename, size) {\n",
              "      if (!google.colab.kernel.accessAllowed) {\n",
              "        return;\n",
              "      }\n",
              "      const div = document.createElement('div');\n",
              "      const label = document.createElement('label');\n",
              "      label.textContent = `Downloading \"${filename}\": `;\n",
              "      div.appendChild(label);\n",
              "      const progress = document.createElement('progress');\n",
              "      progress.max = size;\n",
              "      div.appendChild(progress);\n",
              "      document.body.appendChild(div);\n",
              "\n",
              "      const buffers = [];\n",
              "      let downloaded = 0;\n",
              "\n",
              "      const channel = await google.colab.kernel.comms.open(id);\n",
              "      // Send a message to notify the kernel that we're ready.\n",
              "      channel.send({})\n",
              "\n",
              "      for await (const message of channel.messages) {\n",
              "        // Send a message to notify the kernel that we're ready.\n",
              "        channel.send({})\n",
              "        if (message.buffers) {\n",
              "          for (const buffer of message.buffers) {\n",
              "            buffers.push(buffer);\n",
              "            downloaded += buffer.byteLength;\n",
              "            progress.value = downloaded;\n",
              "          }\n",
              "        }\n",
              "      }\n",
              "      const blob = new Blob(buffers, {type: 'application/binary'});\n",
              "      const a = document.createElement('a');\n",
              "      a.href = window.URL.createObjectURL(blob);\n",
              "      a.download = filename;\n",
              "      div.appendChild(a);\n",
              "      a.click();\n",
              "      div.remove();\n",
              "    }\n",
              "  "
            ],
            "text/plain": [
              "<IPython.core.display.Javascript object>"
            ]
          },
          "metadata": {
            "tags": []
          }
        },
        {
          "output_type": "display_data",
          "data": {
            "application/javascript": [
              "download(\"download_053f2df6-1cb7-4e7e-a2ad-ec760efe2dee\", \"000000076.jpg\", 15900)"
            ],
            "text/plain": [
              "<IPython.core.display.Javascript object>"
            ]
          },
          "metadata": {
            "tags": []
          }
        },
        {
          "output_type": "display_data",
          "data": {
            "application/javascript": [
              "\n",
              "    async function download(id, filename, size) {\n",
              "      if (!google.colab.kernel.accessAllowed) {\n",
              "        return;\n",
              "      }\n",
              "      const div = document.createElement('div');\n",
              "      const label = document.createElement('label');\n",
              "      label.textContent = `Downloading \"${filename}\": `;\n",
              "      div.appendChild(label);\n",
              "      const progress = document.createElement('progress');\n",
              "      progress.max = size;\n",
              "      div.appendChild(progress);\n",
              "      document.body.appendChild(div);\n",
              "\n",
              "      const buffers = [];\n",
              "      let downloaded = 0;\n",
              "\n",
              "      const channel = await google.colab.kernel.comms.open(id);\n",
              "      // Send a message to notify the kernel that we're ready.\n",
              "      channel.send({})\n",
              "\n",
              "      for await (const message of channel.messages) {\n",
              "        // Send a message to notify the kernel that we're ready.\n",
              "        channel.send({})\n",
              "        if (message.buffers) {\n",
              "          for (const buffer of message.buffers) {\n",
              "            buffers.push(buffer);\n",
              "            downloaded += buffer.byteLength;\n",
              "            progress.value = downloaded;\n",
              "          }\n",
              "        }\n",
              "      }\n",
              "      const blob = new Blob(buffers, {type: 'application/binary'});\n",
              "      const a = document.createElement('a');\n",
              "      a.href = window.URL.createObjectURL(blob);\n",
              "      a.download = filename;\n",
              "      div.appendChild(a);\n",
              "      a.click();\n",
              "      div.remove();\n",
              "    }\n",
              "  "
            ],
            "text/plain": [
              "<IPython.core.display.Javascript object>"
            ]
          },
          "metadata": {
            "tags": []
          }
        },
        {
          "output_type": "display_data",
          "data": {
            "application/javascript": [
              "download(\"download_077c8371-1f18-44e0-9d86-c19a1d88b656\", \"000000097.jpg\", 15549)"
            ],
            "text/plain": [
              "<IPython.core.display.Javascript object>"
            ]
          },
          "metadata": {
            "tags": []
          }
        },
        {
          "output_type": "display_data",
          "data": {
            "application/javascript": [
              "\n",
              "    async function download(id, filename, size) {\n",
              "      if (!google.colab.kernel.accessAllowed) {\n",
              "        return;\n",
              "      }\n",
              "      const div = document.createElement('div');\n",
              "      const label = document.createElement('label');\n",
              "      label.textContent = `Downloading \"${filename}\": `;\n",
              "      div.appendChild(label);\n",
              "      const progress = document.createElement('progress');\n",
              "      progress.max = size;\n",
              "      div.appendChild(progress);\n",
              "      document.body.appendChild(div);\n",
              "\n",
              "      const buffers = [];\n",
              "      let downloaded = 0;\n",
              "\n",
              "      const channel = await google.colab.kernel.comms.open(id);\n",
              "      // Send a message to notify the kernel that we're ready.\n",
              "      channel.send({})\n",
              "\n",
              "      for await (const message of channel.messages) {\n",
              "        // Send a message to notify the kernel that we're ready.\n",
              "        channel.send({})\n",
              "        if (message.buffers) {\n",
              "          for (const buffer of message.buffers) {\n",
              "            buffers.push(buffer);\n",
              "            downloaded += buffer.byteLength;\n",
              "            progress.value = downloaded;\n",
              "          }\n",
              "        }\n",
              "      }\n",
              "      const blob = new Blob(buffers, {type: 'application/binary'});\n",
              "      const a = document.createElement('a');\n",
              "      a.href = window.URL.createObjectURL(blob);\n",
              "      a.download = filename;\n",
              "      div.appendChild(a);\n",
              "      a.click();\n",
              "      div.remove();\n",
              "    }\n",
              "  "
            ],
            "text/plain": [
              "<IPython.core.display.Javascript object>"
            ]
          },
          "metadata": {
            "tags": []
          }
        },
        {
          "output_type": "display_data",
          "data": {
            "application/javascript": [
              "download(\"download_b9ff523d-47f8-4263-ad27-d42f6234da87\", \"000002576.jpg\", 15517)"
            ],
            "text/plain": [
              "<IPython.core.display.Javascript object>"
            ]
          },
          "metadata": {
            "tags": []
          }
        },
        {
          "output_type": "display_data",
          "data": {
            "application/javascript": [
              "\n",
              "    async function download(id, filename, size) {\n",
              "      if (!google.colab.kernel.accessAllowed) {\n",
              "        return;\n",
              "      }\n",
              "      const div = document.createElement('div');\n",
              "      const label = document.createElement('label');\n",
              "      label.textContent = `Downloading \"${filename}\": `;\n",
              "      div.appendChild(label);\n",
              "      const progress = document.createElement('progress');\n",
              "      progress.max = size;\n",
              "      div.appendChild(progress);\n",
              "      document.body.appendChild(div);\n",
              "\n",
              "      const buffers = [];\n",
              "      let downloaded = 0;\n",
              "\n",
              "      const channel = await google.colab.kernel.comms.open(id);\n",
              "      // Send a message to notify the kernel that we're ready.\n",
              "      channel.send({})\n",
              "\n",
              "      for await (const message of channel.messages) {\n",
              "        // Send a message to notify the kernel that we're ready.\n",
              "        channel.send({})\n",
              "        if (message.buffers) {\n",
              "          for (const buffer of message.buffers) {\n",
              "            buffers.push(buffer);\n",
              "            downloaded += buffer.byteLength;\n",
              "            progress.value = downloaded;\n",
              "          }\n",
              "        }\n",
              "      }\n",
              "      const blob = new Blob(buffers, {type: 'application/binary'});\n",
              "      const a = document.createElement('a');\n",
              "      a.href = window.URL.createObjectURL(blob);\n",
              "      a.download = filename;\n",
              "      div.appendChild(a);\n",
              "      a.click();\n",
              "      div.remove();\n",
              "    }\n",
              "  "
            ],
            "text/plain": [
              "<IPython.core.display.Javascript object>"
            ]
          },
          "metadata": {
            "tags": []
          }
        },
        {
          "output_type": "display_data",
          "data": {
            "application/javascript": [
              "download(\"download_41bdaa4b-524e-412d-8f67-0998f238b37e\", \"000002412.jpg\", 16646)"
            ],
            "text/plain": [
              "<IPython.core.display.Javascript object>"
            ]
          },
          "metadata": {
            "tags": []
          }
        }
      ]
    },
    {
      "cell_type": "code",
      "metadata": {
        "id": "SD4BGZYzTZ-B",
        "colab": {
          "base_uri": "https://localhost:8080/",
          "height": 206
        },
        "outputId": "63225625-2811-478b-f9c8-c12fd8371681"
      },
      "source": [
        "# create a dataframe for analysis purposes\n",
        "\n",
        "import pandas as pd\n",
        "df = pd.read_csv(\"/content/data/output/out.csv\")\n",
        "df.head()"
      ],
      "execution_count": null,
      "outputs": [
        {
          "output_type": "execute_result",
          "data": {
            "text/html": [
              "<div>\n",
              "<style scoped>\n",
              "    .dataframe tbody tr th:only-of-type {\n",
              "        vertical-align: middle;\n",
              "    }\n",
              "\n",
              "    .dataframe tbody tr th {\n",
              "        vertical-align: top;\n",
              "    }\n",
              "\n",
              "    .dataframe thead th {\n",
              "        text-align: right;\n",
              "    }\n",
              "</style>\n",
              "<table border=\"1\" class=\"dataframe\">\n",
              "  <thead>\n",
              "    <tr style=\"text-align: right;\">\n",
              "      <th></th>\n",
              "      <th>path</th>\n",
              "      <th>confidence</th>\n",
              "      <th>ymin</th>\n",
              "      <th>xmin</th>\n",
              "      <th>ymax</th>\n",
              "      <th>xmax</th>\n",
              "      <th>class</th>\n",
              "    </tr>\n",
              "  </thead>\n",
              "  <tbody>\n",
              "    <tr>\n",
              "      <th>0</th>\n",
              "      <td>path</td>\n",
              "      <td>confidence</td>\n",
              "      <td>ymin</td>\n",
              "      <td>xmin</td>\n",
              "      <td>ymax</td>\n",
              "      <td>xmax</td>\n",
              "      <td>class</td>\n",
              "    </tr>\n",
              "    <tr>\n",
              "      <th>1</th>\n",
              "      <td>/content/data/test_data_images/test_data_image...</td>\n",
              "      <td>0.6900253</td>\n",
              "      <td>204.23952</td>\n",
              "      <td>110.533905</td>\n",
              "      <td>215.65071</td>\n",
              "      <td>122.34009</td>\n",
              "      <td>1</td>\n",
              "    </tr>\n",
              "    <tr>\n",
              "      <th>2</th>\n",
              "      <td>/content/data/test_data_images/test_data_image...</td>\n",
              "      <td>0.80099934</td>\n",
              "      <td>52.44447</td>\n",
              "      <td>61.93716</td>\n",
              "      <td>63.514984</td>\n",
              "      <td>74.036766</td>\n",
              "      <td>1</td>\n",
              "    </tr>\n",
              "    <tr>\n",
              "      <th>3</th>\n",
              "      <td>/content/data/test_data_images/test_data_image...</td>\n",
              "      <td>0.7431664</td>\n",
              "      <td>86.74582</td>\n",
              "      <td>173.33273</td>\n",
              "      <td>98.36514</td>\n",
              "      <td>184.52744</td>\n",
              "      <td>1</td>\n",
              "    </tr>\n",
              "    <tr>\n",
              "      <th>4</th>\n",
              "      <td>/content/data/test_data_images/test_data_image...</td>\n",
              "      <td>0.6905191</td>\n",
              "      <td>188.9087</td>\n",
              "      <td>85.26168</td>\n",
              "      <td>223.72</td>\n",
              "      <td>134.94113</td>\n",
              "      <td>2</td>\n",
              "    </tr>\n",
              "  </tbody>\n",
              "</table>\n",
              "</div>"
            ],
            "text/plain": [
              "                                                path  ...  class\n",
              "0                                               path  ...  class\n",
              "1  /content/data/test_data_images/test_data_image...  ...      1\n",
              "2  /content/data/test_data_images/test_data_image...  ...      1\n",
              "3  /content/data/test_data_images/test_data_image...  ...      1\n",
              "4  /content/data/test_data_images/test_data_image...  ...      2\n",
              "\n",
              "[5 rows x 7 columns]"
            ]
          },
          "metadata": {
            "tags": []
          },
          "execution_count": 41
        }
      ]
    },
    {
      "cell_type": "code",
      "metadata": {
        "id": "ryr56it7WavU",
        "colab": {
          "base_uri": "https://localhost:8080/"
        },
        "outputId": "85ec4d83-30a6-4871-f181-d292dba8c309"
      },
      "source": [
        "df[\"class\"].value_counts()"
      ],
      "execution_count": null,
      "outputs": [
        {
          "output_type": "execute_result",
          "data": {
            "text/plain": [
              "1        18\n",
              "2         3\n",
              "class     1\n",
              "Name: class, dtype: int64"
            ]
          },
          "metadata": {
            "tags": []
          },
          "execution_count": 43
        }
      ]
    },
    {
      "cell_type": "code",
      "metadata": {
        "id": "b-LMr21RB-j7"
      },
      "source": [
        ""
      ],
      "execution_count": null,
      "outputs": []
    }
  ]
}